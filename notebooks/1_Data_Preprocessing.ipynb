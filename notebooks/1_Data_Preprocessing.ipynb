{
 "cells": [
  {
   "cell_type": "markdown",
   "id": "efe761d5-bb9d-482b-ac2a-ca2da921494e",
   "metadata": {},
   "source": [
    "##### $Name:\\,\\color{blue}{Bin\\,Lu,\\,Maymoonah\\,Bashir,\\,Christopher\\,J.\\,Watson}$\n",
    "##### $School:\\,\\color{blue}{Marcos\\,School\\,of\\,Engineering,\\,University\\,of\\,San\\,Diego}$\n",
    "##### $Class:\\,\\color{blue}{AAI\\,500-\\,Probability\\,\\&\\,Stats\\,for\\,AI}$\n",
    "##### $Assignment:\\,\\color{blue}{MSAAI\\,Final Project-DataProcessing}$\n",
    "##### $Date:\\,\\color{blue}{10/22/2022}$"
   ]
  },
  {
   "cell_type": "markdown",
   "id": "27f046bd-e451-424e-bc42-1f5a8edfc5e3",
   "metadata": {},
   "source": [
    "### Problem - Data PreProcessing"
   ]
  },
  {
   "cell_type": "markdown",
   "id": "8b224070-0954-4112-8fb1-795b41eb1599",
   "metadata": {},
   "source": [
    "Statement - One of the single biggest problems with our dataset was the data itself. There were many unreadable characters as well as data fields which had been incorrectly input or difficult to work with. We created a program to mitigate these issues. \n",
    "$\\newline$\n",
    "1) The special characters were simply deleted. This made a few of the make fields empty so model was copied into them to ensure they weren't completely blank.\n",
    "$\\newline$\n",
    "2) Each field had special considerations, so for each field we made a small preprocessing functions and added them to a dictionary so that it would get used on the correct column."
   ]
  },
  {
   "cell_type": "code",
   "execution_count": 13,
   "id": "eec6c77d-fed4-463d-9190-0935e10777d1",
   "metadata": {},
   "outputs": [],
   "source": [
    "# Imports\n",
    "import data_fix as dfix\n",
    "import data_utils_g1 as du\n",
    "import matplotlib.pyplot as plt\n",
    "import numpy"
   ]
  },
  {
   "cell_type": "code",
   "execution_count": 2,
   "id": "c076b4fe-d8db-45f6-8be7-14f70275bb79",
   "metadata": {},
   "outputs": [
    {
     "name": "stdout",
     "output_type": "stream",
     "text": [
      "Replacing all special characters for clean read\n",
      "Asking for cleaned data file save location\n",
      "Printing save location:\n",
      "C:/Users/chris/Documents/School/Masters/zz_GIT/2022-msaai-500-final-project/data/sanitized/sanitized_1.txt\n",
      "C:/Users/chris/Documents/School/Masters/zz_GIT/2022-msaai-500-final-project/data/sanitized/sanitized_1_final.csv\n"
     ]
    }
   ],
   "source": [
    "# scrub the datafile\n",
    "dfix.init()\n",
    "# This function will automatically prompt for a file and a save location using a dialog selector\n",
    "data = dfix.scrub_txt_file()"
   ]
  },
  {
   "cell_type": "code",
   "execution_count": 3,
   "id": "b34c12ac-a23d-48c4-8e20-899b565f12b8",
   "metadata": {},
   "outputs": [
    {
     "data": {
      "text/html": [
       "<div>\n",
       "<style scoped>\n",
       "    .dataframe tbody tr th:only-of-type {\n",
       "        vertical-align: middle;\n",
       "    }\n",
       "\n",
       "    .dataframe tbody tr th {\n",
       "        vertical-align: top;\n",
       "    }\n",
       "\n",
       "    .dataframe thead th {\n",
       "        text-align: right;\n",
       "    }\n",
       "</style>\n",
       "<table border=\"1\" class=\"dataframe\">\n",
       "  <thead>\n",
       "    <tr style=\"text-align: right;\">\n",
       "      <th></th>\n",
       "      <th>ID</th>\n",
       "      <th>Price</th>\n",
       "      <th>Levy</th>\n",
       "      <th>Manufacturer</th>\n",
       "      <th>Model</th>\n",
       "      <th>Prod_year</th>\n",
       "      <th>Category</th>\n",
       "      <th>Leather_interior</th>\n",
       "      <th>Fuel_type</th>\n",
       "      <th>Engine_volume</th>\n",
       "      <th>Turbo</th>\n",
       "      <th>Mileage</th>\n",
       "      <th>Cylinders</th>\n",
       "      <th>Gear_box_type</th>\n",
       "      <th>Drive_wheels</th>\n",
       "      <th>Doors</th>\n",
       "      <th>Wheel</th>\n",
       "      <th>Color</th>\n",
       "      <th>Airbags</th>\n",
       "    </tr>\n",
       "  </thead>\n",
       "  <tbody>\n",
       "    <tr>\n",
       "      <th>0</th>\n",
       "      <td>45654403</td>\n",
       "      <td>13328</td>\n",
       "      <td>1399</td>\n",
       "      <td>LEXUS</td>\n",
       "      <td>RX 450</td>\n",
       "      <td>2010</td>\n",
       "      <td>Jeep</td>\n",
       "      <td>Yes</td>\n",
       "      <td>Hybrid</td>\n",
       "      <td>3.5</td>\n",
       "      <td></td>\n",
       "      <td>186005</td>\n",
       "      <td>6</td>\n",
       "      <td>Automatic</td>\n",
       "      <td>Front-Rear</td>\n",
       "      <td>4-5</td>\n",
       "      <td>Left wheel</td>\n",
       "      <td>Silver</td>\n",
       "      <td>12</td>\n",
       "    </tr>\n",
       "    <tr>\n",
       "      <th>1</th>\n",
       "      <td>44731507</td>\n",
       "      <td>16621</td>\n",
       "      <td>1018</td>\n",
       "      <td>CHEVROLET</td>\n",
       "      <td>EQUINOX</td>\n",
       "      <td>2011</td>\n",
       "      <td>Jeep</td>\n",
       "      <td>No</td>\n",
       "      <td>Petrol</td>\n",
       "      <td>3</td>\n",
       "      <td></td>\n",
       "      <td>192000</td>\n",
       "      <td>6</td>\n",
       "      <td>Tiptronic</td>\n",
       "      <td>Front-Rear</td>\n",
       "      <td>4-5</td>\n",
       "      <td>Left wheel</td>\n",
       "      <td>Black</td>\n",
       "      <td>8</td>\n",
       "    </tr>\n",
       "    <tr>\n",
       "      <th>2</th>\n",
       "      <td>45774419</td>\n",
       "      <td>8467</td>\n",
       "      <td>0</td>\n",
       "      <td>HONDA</td>\n",
       "      <td>FIT</td>\n",
       "      <td>2006</td>\n",
       "      <td>Hatchback</td>\n",
       "      <td>No</td>\n",
       "      <td>Petrol</td>\n",
       "      <td>1.3</td>\n",
       "      <td></td>\n",
       "      <td>200000</td>\n",
       "      <td>4</td>\n",
       "      <td>Variator</td>\n",
       "      <td>Front</td>\n",
       "      <td>4-5</td>\n",
       "      <td>Right-hand drive</td>\n",
       "      <td>Black</td>\n",
       "      <td>2</td>\n",
       "    </tr>\n",
       "    <tr>\n",
       "      <th>3</th>\n",
       "      <td>45769185</td>\n",
       "      <td>3607</td>\n",
       "      <td>862</td>\n",
       "      <td>FORD</td>\n",
       "      <td>ESCAPE</td>\n",
       "      <td>2011</td>\n",
       "      <td>Jeep</td>\n",
       "      <td>Yes</td>\n",
       "      <td>Hybrid</td>\n",
       "      <td>2.5</td>\n",
       "      <td></td>\n",
       "      <td>168966</td>\n",
       "      <td>4</td>\n",
       "      <td>Automatic</td>\n",
       "      <td>Front-Rear</td>\n",
       "      <td>4-5</td>\n",
       "      <td>Left wheel</td>\n",
       "      <td>White</td>\n",
       "      <td>0</td>\n",
       "    </tr>\n",
       "    <tr>\n",
       "      <th>4</th>\n",
       "      <td>45809263</td>\n",
       "      <td>11726</td>\n",
       "      <td>446</td>\n",
       "      <td>HONDA</td>\n",
       "      <td>FIT</td>\n",
       "      <td>2014</td>\n",
       "      <td>Hatchback</td>\n",
       "      <td>Yes</td>\n",
       "      <td>Petrol</td>\n",
       "      <td>1.3</td>\n",
       "      <td></td>\n",
       "      <td>91901</td>\n",
       "      <td>4</td>\n",
       "      <td>Automatic</td>\n",
       "      <td>Front</td>\n",
       "      <td>4-5</td>\n",
       "      <td>Left wheel</td>\n",
       "      <td>Silver</td>\n",
       "      <td>4</td>\n",
       "    </tr>\n",
       "    <tr>\n",
       "      <th>5</th>\n",
       "      <td>45802912</td>\n",
       "      <td>39493</td>\n",
       "      <td>891</td>\n",
       "      <td>HYUNDAI</td>\n",
       "      <td>SANTA FE</td>\n",
       "      <td>2016</td>\n",
       "      <td>Jeep</td>\n",
       "      <td>Yes</td>\n",
       "      <td>Diesel</td>\n",
       "      <td>2</td>\n",
       "      <td></td>\n",
       "      <td>160931</td>\n",
       "      <td>4</td>\n",
       "      <td>Automatic</td>\n",
       "      <td>Front</td>\n",
       "      <td>4-5</td>\n",
       "      <td>Left wheel</td>\n",
       "      <td>White</td>\n",
       "      <td>4</td>\n",
       "    </tr>\n",
       "    <tr>\n",
       "      <th>6</th>\n",
       "      <td>45656768</td>\n",
       "      <td>1803</td>\n",
       "      <td>761</td>\n",
       "      <td>TOYOTA</td>\n",
       "      <td>PRIUS</td>\n",
       "      <td>2010</td>\n",
       "      <td>Hatchback</td>\n",
       "      <td>Yes</td>\n",
       "      <td>Hybrid</td>\n",
       "      <td>1.8</td>\n",
       "      <td></td>\n",
       "      <td>258909</td>\n",
       "      <td>4</td>\n",
       "      <td>Automatic</td>\n",
       "      <td>Front</td>\n",
       "      <td>4-5</td>\n",
       "      <td>Left wheel</td>\n",
       "      <td>White</td>\n",
       "      <td>12</td>\n",
       "    </tr>\n",
       "    <tr>\n",
       "      <th>7</th>\n",
       "      <td>45816158</td>\n",
       "      <td>549</td>\n",
       "      <td>751</td>\n",
       "      <td>HYUNDAI</td>\n",
       "      <td>SONATA</td>\n",
       "      <td>2013</td>\n",
       "      <td>Sedan</td>\n",
       "      <td>Yes</td>\n",
       "      <td>Petrol</td>\n",
       "      <td>2.4</td>\n",
       "      <td></td>\n",
       "      <td>216118</td>\n",
       "      <td>4</td>\n",
       "      <td>Automatic</td>\n",
       "      <td>Front</td>\n",
       "      <td>4-5</td>\n",
       "      <td>Left wheel</td>\n",
       "      <td>Grey</td>\n",
       "      <td>12</td>\n",
       "    </tr>\n",
       "    <tr>\n",
       "      <th>8</th>\n",
       "      <td>45641395</td>\n",
       "      <td>1098</td>\n",
       "      <td>394</td>\n",
       "      <td>TOYOTA</td>\n",
       "      <td>CAMRY</td>\n",
       "      <td>2014</td>\n",
       "      <td>Sedan</td>\n",
       "      <td>Yes</td>\n",
       "      <td>Hybrid</td>\n",
       "      <td>2.5</td>\n",
       "      <td></td>\n",
       "      <td>398069</td>\n",
       "      <td>4</td>\n",
       "      <td>Automatic</td>\n",
       "      <td>Front</td>\n",
       "      <td>4-5</td>\n",
       "      <td>Left wheel</td>\n",
       "      <td>Black</td>\n",
       "      <td>12</td>\n",
       "    </tr>\n",
       "    <tr>\n",
       "      <th>9</th>\n",
       "      <td>45756839</td>\n",
       "      <td>26657</td>\n",
       "      <td>0</td>\n",
       "      <td>LEXUS</td>\n",
       "      <td>RX 350</td>\n",
       "      <td>2007</td>\n",
       "      <td>Jeep</td>\n",
       "      <td>Yes</td>\n",
       "      <td>Petrol</td>\n",
       "      <td>3.5</td>\n",
       "      <td></td>\n",
       "      <td>128500</td>\n",
       "      <td>6</td>\n",
       "      <td>Automatic</td>\n",
       "      <td>Front-Rear</td>\n",
       "      <td>4-5</td>\n",
       "      <td>Left wheel</td>\n",
       "      <td>Silver</td>\n",
       "      <td>12</td>\n",
       "    </tr>\n",
       "    <tr>\n",
       "      <th>10</th>\n",
       "      <td>45621750</td>\n",
       "      <td>941</td>\n",
       "      <td>1053</td>\n",
       "      <td>MERCEDES-BENZ</td>\n",
       "      <td>E 350</td>\n",
       "      <td>2014</td>\n",
       "      <td>Sedan</td>\n",
       "      <td>Yes</td>\n",
       "      <td>Diesel</td>\n",
       "      <td>3.5</td>\n",
       "      <td></td>\n",
       "      <td>184467</td>\n",
       "      <td>6</td>\n",
       "      <td>Automatic</td>\n",
       "      <td>Rear</td>\n",
       "      <td>4-5</td>\n",
       "      <td>Left wheel</td>\n",
       "      <td>White</td>\n",
       "      <td>12</td>\n",
       "    </tr>\n",
       "    <tr>\n",
       "      <th>11</th>\n",
       "      <td>45814819</td>\n",
       "      <td>8781</td>\n",
       "      <td>0</td>\n",
       "      <td>FORD</td>\n",
       "      <td>TRANSIT</td>\n",
       "      <td>1999</td>\n",
       "      <td>Microbus</td>\n",
       "      <td>No</td>\n",
       "      <td>CNG</td>\n",
       "      <td>4</td>\n",
       "      <td></td>\n",
       "      <td>0</td>\n",
       "      <td>8</td>\n",
       "      <td>Manual</td>\n",
       "      <td>Rear</td>\n",
       "      <td>2-3</td>\n",
       "      <td>Left wheel</td>\n",
       "      <td>Blue</td>\n",
       "      <td>0</td>\n",
       "    </tr>\n",
       "    <tr>\n",
       "      <th>12</th>\n",
       "      <td>45815568</td>\n",
       "      <td>3000</td>\n",
       "      <td>0</td>\n",
       "      <td>OPEL</td>\n",
       "      <td>VECTRA</td>\n",
       "      <td>1997</td>\n",
       "      <td>Goods wagon</td>\n",
       "      <td>No</td>\n",
       "      <td>CNG</td>\n",
       "      <td>1.6</td>\n",
       "      <td></td>\n",
       "      <td>350000</td>\n",
       "      <td>4</td>\n",
       "      <td>Manual</td>\n",
       "      <td>Front</td>\n",
       "      <td>4-5</td>\n",
       "      <td>Left wheel</td>\n",
       "      <td>White</td>\n",
       "      <td>4</td>\n",
       "    </tr>\n",
       "    <tr>\n",
       "      <th>13</th>\n",
       "      <td>45661288</td>\n",
       "      <td>1019</td>\n",
       "      <td>1055</td>\n",
       "      <td>LEXUS</td>\n",
       "      <td>RX 450</td>\n",
       "      <td>2013</td>\n",
       "      <td>Jeep</td>\n",
       "      <td>Yes</td>\n",
       "      <td>Hybrid</td>\n",
       "      <td>3.5</td>\n",
       "      <td></td>\n",
       "      <td>138038</td>\n",
       "      <td>6</td>\n",
       "      <td>Automatic</td>\n",
       "      <td>Front</td>\n",
       "      <td>4-5</td>\n",
       "      <td>Left wheel</td>\n",
       "      <td>White</td>\n",
       "      <td>12</td>\n",
       "    </tr>\n",
       "    <tr>\n",
       "      <th>14</th>\n",
       "      <td>45732604</td>\n",
       "      <td>59464</td>\n",
       "      <td>891</td>\n",
       "      <td>HYUNDAI</td>\n",
       "      <td>SANTA FE</td>\n",
       "      <td>2016</td>\n",
       "      <td>Jeep</td>\n",
       "      <td>Yes</td>\n",
       "      <td>Diesel</td>\n",
       "      <td>2</td>\n",
       "      <td></td>\n",
       "      <td>76000</td>\n",
       "      <td>4</td>\n",
       "      <td>Automatic</td>\n",
       "      <td>Front</td>\n",
       "      <td>4-5</td>\n",
       "      <td>Left wheel</td>\n",
       "      <td>White</td>\n",
       "      <td>4</td>\n",
       "    </tr>\n",
       "  </tbody>\n",
       "</table>\n",
       "</div>"
      ],
      "text/plain": [
       "          ID  Price  Levy   Manufacturer     Model Prod_year     Category  \\\n",
       "0   45654403  13328  1399          LEXUS    RX 450      2010         Jeep   \n",
       "1   44731507  16621  1018      CHEVROLET   EQUINOX      2011         Jeep   \n",
       "2   45774419   8467     0          HONDA       FIT      2006    Hatchback   \n",
       "3   45769185   3607   862           FORD    ESCAPE      2011         Jeep   \n",
       "4   45809263  11726   446          HONDA       FIT      2014    Hatchback   \n",
       "5   45802912  39493   891        HYUNDAI  SANTA FE      2016         Jeep   \n",
       "6   45656768   1803   761         TOYOTA     PRIUS      2010    Hatchback   \n",
       "7   45816158    549   751        HYUNDAI    SONATA      2013        Sedan   \n",
       "8   45641395   1098   394         TOYOTA     CAMRY      2014        Sedan   \n",
       "9   45756839  26657     0          LEXUS    RX 350      2007         Jeep   \n",
       "10  45621750    941  1053  MERCEDES-BENZ     E 350      2014        Sedan   \n",
       "11  45814819   8781     0           FORD   TRANSIT      1999     Microbus   \n",
       "12  45815568   3000     0           OPEL    VECTRA      1997  Goods wagon   \n",
       "13  45661288   1019  1055          LEXUS    RX 450      2013         Jeep   \n",
       "14  45732604  59464   891        HYUNDAI  SANTA FE      2016         Jeep   \n",
       "\n",
       "   Leather_interior Fuel_type Engine_volume Turbo Mileage Cylinders  \\\n",
       "0               Yes    Hybrid           3.5        186005         6   \n",
       "1                No    Petrol             3        192000         6   \n",
       "2                No    Petrol           1.3        200000         4   \n",
       "3               Yes    Hybrid           2.5        168966         4   \n",
       "4               Yes    Petrol           1.3         91901         4   \n",
       "5               Yes    Diesel             2        160931         4   \n",
       "6               Yes    Hybrid           1.8        258909         4   \n",
       "7               Yes    Petrol           2.4        216118         4   \n",
       "8               Yes    Hybrid           2.5        398069         4   \n",
       "9               Yes    Petrol           3.5        128500         6   \n",
       "10              Yes    Diesel           3.5        184467         6   \n",
       "11               No       CNG             4             0         8   \n",
       "12               No       CNG           1.6        350000         4   \n",
       "13              Yes    Hybrid           3.5        138038         6   \n",
       "14              Yes    Diesel             2         76000         4   \n",
       "\n",
       "   Gear_box_type Drive_wheels Doors             Wheel   Color Airbags  \n",
       "0      Automatic   Front-Rear   4-5        Left wheel  Silver      12  \n",
       "1      Tiptronic   Front-Rear   4-5        Left wheel   Black       8  \n",
       "2       Variator        Front   4-5  Right-hand drive   Black       2  \n",
       "3      Automatic   Front-Rear   4-5        Left wheel   White       0  \n",
       "4      Automatic        Front   4-5        Left wheel  Silver       4  \n",
       "5      Automatic        Front   4-5        Left wheel   White       4  \n",
       "6      Automatic        Front   4-5        Left wheel   White      12  \n",
       "7      Automatic        Front   4-5        Left wheel    Grey      12  \n",
       "8      Automatic        Front   4-5        Left wheel   Black      12  \n",
       "9      Automatic   Front-Rear   4-5        Left wheel  Silver      12  \n",
       "10     Automatic         Rear   4-5        Left wheel   White      12  \n",
       "11        Manual         Rear   2-3        Left wheel    Blue       0  \n",
       "12        Manual        Front   4-5        Left wheel   White       4  \n",
       "13     Automatic        Front   4-5        Left wheel   White      12  \n",
       "14     Automatic        Front   4-5        Left wheel   White       4  "
      ]
     },
     "metadata": {},
     "output_type": "display_data"
    }
   ],
   "source": [
    "# display the data\n",
    "display(data.head(15))"
   ]
  },
  {
   "cell_type": "markdown",
   "id": "500499d5-c2fd-4dea-a2bf-1cc18aa2f52f",
   "metadata": {},
   "source": [
    "### For main section of cleaning code please see file data_fix.py Appendix-1"
   ]
  },
  {
   "cell_type": "markdown",
   "id": "e0b95a20-d033-43cb-962c-47d48b983dce",
   "metadata": {},
   "source": [
    "We were also give a data dictionary which we stored in case it was needed later."
   ]
  },
  {
   "cell_type": "code",
   "execution_count": 4,
   "id": "336f3318-6d93-4257-b24d-5798ddc30464",
   "metadata": {},
   "outputs": [
    {
     "name": "stdout",
     "output_type": "stream",
     "text": [
      "Asking for dictionary save file path\n"
     ]
    },
    {
     "data": {
      "text/plain": [
       "'C:/Users/chris/Documents/School/Masters/zz_GIT/2022-msaai-500-final-project/data/data_dictionary.json'"
      ]
     },
     "execution_count": 4,
     "metadata": {},
     "output_type": "execute_result"
    }
   ],
   "source": [
    "# Given data dictionary\n",
    "data_dict= {\"ID\": \"Unique identifier/key\", \"Price\": \"Price of the car\", \"Levy\": \"Tax applied to purchase price\", \n",
    "            \"Manufacturer\": \"Name of car manufacturer\", \"Model\": \"Model of the car\", \n",
    "            \"Prod_year\": \"Year the car was produced\", \"Category\": \"Category by body type of the car\", \n",
    "            \"Leather_interior\": \"Whether or not the car has a leather interior\", \"Fuel_type\": \"Fuel type of the car\", \n",
    "            \"Engine_volume\": \"Engine size/volume of the car\", \"Mileage\": \"Total mileage on the car\", \n",
    "            \"Cylinders\": \"Number of cylinders\", \"Gear_box_type\": \"Type of gear box\", \"Drive_wheels\": \n",
    "            \"Drive wheels on the car\", \"Doors\": \"Number of doors on the car\", \"Wheel\": \"Side of the steering wheel\", \n",
    "            \"Color\": \"Exterior color of the car\", \"Airbags\": \"Number of airbags in the car\"}\n",
    "\n",
    "file_name = \"..\\data\\data_dictionary.txt\"\n",
    "# we created a utility library and saved it as data_utils_g1.py\n",
    "du.save_py_dict(data_dict)"
   ]
  },
  {
   "cell_type": "markdown",
   "id": "6c3d29f6-a1fd-4107-916f-085044e5570a",
   "metadata": {},
   "source": [
    "We looked at the data just to see what unique values we were dealing with"
   ]
  },
  {
   "cell_type": "code",
   "execution_count": 5,
   "id": "1fd0e53c-711c-44ff-9ef5-73c82b40505b",
   "metadata": {},
   "outputs": [
    {
     "name": "stdout",
     "output_type": "stream",
     "text": [
      "Gearbox Uniques ['Automatic' 'Tiptronic' 'Variator' 'Manual']\n",
      "Cylinders Uniques ['6' '4' '8' '1' '12' '3' '2' '16' '5' '7' '9' '10' '14']\n",
      "Manufacturer Uniques ['LEXUS' 'CHEVROLET' 'HONDA' 'FORD' 'HYUNDAI' 'TOYOTA' 'MERCEDES-BENZ'\n",
      " 'OPEL' 'PORSCHE' 'BMW' 'JEEP' 'VOLKSWAGEN' 'AUDI' 'RENAULT' 'NISSAN'\n",
      " 'SUBARU' 'DAEWOO' 'KIA' 'MITSUBISHI' 'SSANGYONG' 'MAZDA' 'GMC' 'FIAT'\n",
      " 'INFINITI' 'ALFA ROMEO' 'SUZUKI' 'ACURA' 'LINCOLN' 'VAZ' 'GAZ' 'CITROEN'\n",
      " 'LAND ROVER' 'MINI' 'DODGE' 'CHRYSLER' 'JAGUAR' 'ISUZU' 'SKODA'\n",
      " 'DAIHATSU' 'BUICK' 'TESLA' 'CADILLAC' 'PEUGEOT' 'BENTLEY' 'VOLVO'\n",
      " 'IVECO DAYLY' 'HAVAL' 'HUMMER' 'SCION' 'GONOW' 'UAZ' 'MERCURY' 'ZAZ'\n",
      " 'ROVER' 'SEAT' 'LANCIA' 'MOSKVICH' 'MASERATI' 'FERRARI' 'SAAB'\n",
      " 'LAMBORGHINI' 'ROLLS-ROYCE' 'PONTIAC' 'SATURN' 'ASTON MARTIN' 'GREATWALL']\n",
      "Number of Model Uniques 1481\n"
     ]
    }
   ],
   "source": [
    "# we found quickly we would need to deal with model a little differently\n",
    "print('Gearbox Uniques', data.Gear_box_type.unique())\n",
    "print('Cylinders Uniques', data.Cylinders.unique())\n",
    "print('Manufacturer Uniques', data.Manufacturer.unique())\n",
    "model = data.Model.unique()\n",
    "print('Number of Model Uniques', len(model))"
   ]
  },
  {
   "cell_type": "markdown",
   "id": "6afc3574-d710-40da-93cc-e7ff1ba0f0f8",
   "metadata": {},
   "source": [
    "We also tried looking and sampling the data in different ways to make sense of it."
   ]
  },
  {
   "cell_type": "code",
   "execution_count": 11,
   "id": "808c048b-2c32-4987-b696-fd6ecd8494fa",
   "metadata": {},
   "outputs": [
    {
     "data": {
      "text/plain": [
       "(array([2.66069995e-07, 0.00000000e+00, 0.00000000e+00, 0.00000000e+00,\n",
       "        0.00000000e+00, 0.00000000e+00, 1.38318775e-11]),\n",
       " array([1.00000000e+00, 3.75821514e+06, 7.51642929e+06, 1.12746434e+07,\n",
       "        1.50328576e+07, 1.87910717e+07, 2.25492859e+07, 2.63075000e+07]),\n",
       " [<matplotlib.patches.Polygon at 0x27f17820eb0>])"
      ]
     },
     "execution_count": 11,
     "metadata": {},
     "output_type": "execute_result"
    },
    {
     "data": {
      "image/png": "[encoded data removed]",
      "text/plain": [
       "<Figure size 432x288 with 1 Axes>"
      ]
     },
     "metadata": {
      "needs_background": "light"
     },
     "output_type": "display_data"
    }
   ],
   "source": [
    "data_types = {}\n",
    "data_types['Price'] = 'int32'\n",
    "data_types['Mileage'] = 'int32'\n",
    "data_types['Prod_year'] = 'int32'\n",
    "data_types['Airbags'] = 'int32'\n",
    "data = data.astype(data_types)\n",
    "data = data.sort_values(by=['ID'])\n",
    "\n",
    "# label the plot\n",
    "plt.xlabel(\"Price\")\n",
    "plt.ylabel(\"Count\")\n",
    "\n",
    "# create histogram\n",
    "plt.hist(data['Price'], bins=7, density=True, histtype='stepfilled',\n",
    "         alpha=0.2, label='histogram of data')"
   ]
  },
  {
   "cell_type": "code",
   "execution_count": 12,
   "id": "df219be5-c2e8-449a-b842-247212080ddf",
   "metadata": {},
   "outputs": [
    {
     "data": {
      "text/plain": [
       "(array([2.83228923e-05, 4.49120149e-05, 4.65304659e-05, 1.65891226e-05,\n",
       "        1.21383824e-05, 3.64151472e-06, 2.83228923e-06]),\n",
       " array([ 2805.,  9258., 15711., 22164., 28617., 35070., 41523., 47976.]),\n",
       " [<matplotlib.patches.Polygon at 0x27f17862e50>])"
      ]
     },
     "execution_count": 12,
     "metadata": {},
     "output_type": "execute_result"
    },
    {
     "data": {
      "image/png": "[encoded data removed]",
      "text/plain": [
       "<Figure size 432x288 with 1 Axes>"
      ]
     },
     "metadata": {
      "needs_background": "light"
     },
     "output_type": "display_data"
    }
   ],
   "source": [
    "# This function samples the data at number 'n' per sample\n",
    "sample = du.random_mean_sample(data['Price'], 50)\n",
    "\n",
    "# label the plot\n",
    "plt.xlabel(\"Price\")\n",
    "plt.ylabel(\"Count\")\n",
    "\n",
    "# create histogram\n",
    "# note this is a sorted sample set and we remove the last one\n",
    "# we know from looking at the data the last sample is messed up from a large outlier\n",
    "plt.hist(sample[:-1], bins=7, density=True, histtype='stepfilled',\n",
    "         alpha=0.2, label='histogram of data')"
   ]
  },
  {
   "cell_type": "code",
   "execution_count": 17,
   "id": "9fbbf82d-2f5f-45c3-9a5d-2991fb6d415f",
   "metadata": {},
   "outputs": [
    {
     "name": "stdout",
     "output_type": "stream",
     "text": [
      "Number of samples 383\n"
     ]
    },
    {
     "data": {
      "image/png": "[encoded data removed]",
      "text/plain": [
       "<Figure size 432x288 with 1 Axes>"
      ]
     },
     "metadata": {
      "needs_background": "light"
     },
     "output_type": "display_data"
    }
   ],
   "source": [
    "sample2 = sample[:-1]\n",
    "plt.plot(sample2)\n",
    "print('Number of samples', len(sample2))"
   ]
  },
  {
   "cell_type": "code",
   "execution_count": 21,
   "id": "54282446-5375-497b-9f40-7afcb180b0f1",
   "metadata": {},
   "outputs": [
    {
     "name": "stdout",
     "output_type": "stream",
     "text": [
      "The mean of the sampled set is:  17214.720626631854\n",
      "The sigma of the sampled set is:  8602.999216089052\n"
     ]
    }
   ],
   "source": [
    "mu = numpy.mean(sample2, axis=0)\n",
    "sigma = numpy.std(sample2, axis=0)\n",
    "print('The mean of the sampled set is: ', mu)\n",
    "print('The sigma of the sampled set is: ', sigma)"
   ]
  },
  {
   "cell_type": "markdown",
   "id": "ae82e845-8553-40af-925f-dfc62f5f43fb",
   "metadata": {
    "jp-MarkdownHeadingCollapsed": true,
    "tags": []
   },
   "source": [
    "### In conclusion, we cleaned the data enough to where we could start really looking at it and deciding how we would create a model for it."
   ]
  }
 ],
 "metadata": {
  "kernelspec": {
   "display_name": "Python 3 (ipykernel)",
   "language": "python",
   "name": "python3"
  },
  "language_info": {
   "codemirror_mode": {
    "name": "ipython",
    "version": 3
   },
   "file_extension": ".py",
   "mimetype": "text/x-python",
   "name": "python",
   "nbconvert_exporter": "python",
   "pygments_lexer": "ipython3",
   "version": "3.9.12"
  }
 },
 "nbformat": 4,
 "nbformat_minor": 5
}
