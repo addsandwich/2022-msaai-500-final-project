{
 "cells": [
  {
   "cell_type": "markdown",
   "id": "4df0e441-bb0f-45f0-b86c-58e31ed8a374",
   "metadata": {},
   "source": [
    "### Data-Preprocessing"
   ]
  },
  {
   "cell_type": "code",
   "execution_count": 4,
   "id": "9e5643ca",
   "metadata": {},
   "outputs": [],
   "source": [
    "# import libraries\n",
    "import pandas as pd\n",
    "import numpy as np\n",
    "import matplotlib.pyplot as plt\n",
    "from sklearn.linear_model import LinearRegression\n",
    "import seaborn as sns"
   ]
  },
  {
   "cell_type": "code",
   "execution_count": 5,
   "id": "ce47773f",
   "metadata": {},
   "outputs": [],
   "source": [
    "df = pd.read_csv('cerPrice_Edited.csv') # Import dataset"
   ]
  },
  {
   "cell_type": "code",
   "execution_count": null,
   "id": "50252367",
   "metadata": {},
   "outputs": [
    {
     "data": {
      "text/html": [
       "<div>\n",
       "<style scoped>\n",
       "    .dataframe tbody tr th:only-of-type {\n",
       "        vertical-align: middle;\n",
       "    }\n",
       "\n",
       "    .dataframe tbody tr th {\n",
       "        vertical-align: top;\n",
       "    }\n",
       "\n",
       "    .dataframe thead th {\n",
       "        text-align: right;\n",
       "    }\n",
       "</style>\n",
       "<table border=\"1\" class=\"dataframe\">\n",
       "  <thead>\n",
       "    <tr style=\"text-align: right;\">\n",
       "      <th></th>\n",
       "      <th>Unnamed: 0</th>\n",
       "      <th>ID</th>\n",
       "      <th>Price</th>\n",
       "      <th>Levy</th>\n",
       "      <th>Manufacturer</th>\n",
       "      <th>Model</th>\n",
       "      <th>Prod_year</th>\n",
       "      <th>Category</th>\n",
       "      <th>Leather_interior</th>\n",
       "      <th>Fuel_type</th>\n",
       "      <th>Engine_volume</th>\n",
       "      <th>Turbo</th>\n",
       "      <th>Mileage</th>\n",
       "      <th>Cylinders</th>\n",
       "      <th>Gear_box_type</th>\n",
       "      <th>Drive_wheels</th>\n",
       "      <th>Doors</th>\n",
       "      <th>Wheel</th>\n",
       "      <th>Color</th>\n",
       "      <th>Airbags</th>\n",
       "    </tr>\n",
       "  </thead>\n",
       "  <tbody>\n",
       "    <tr>\n",
       "      <th>0</th>\n",
       "      <td>0</td>\n",
       "      <td>45654403</td>\n",
       "      <td>13328</td>\n",
       "      <td>1399</td>\n",
       "      <td>LEXUS</td>\n",
       "      <td>RX 450</td>\n",
       "      <td>2010</td>\n",
       "      <td>Jeep</td>\n",
       "      <td>Yes</td>\n",
       "      <td>Hybrid</td>\n",
       "      <td>3.5</td>\n",
       "      <td>NaN</td>\n",
       "      <td>186005</td>\n",
       "      <td>6</td>\n",
       "      <td>1</td>\n",
       "      <td>1</td>\n",
       "      <td>1</td>\n",
       "      <td>1</td>\n",
       "      <td>13</td>\n",
       "      <td>12</td>\n",
       "    </tr>\n",
       "    <tr>\n",
       "      <th>1</th>\n",
       "      <td>1</td>\n",
       "      <td>44731507</td>\n",
       "      <td>16621</td>\n",
       "      <td>1018</td>\n",
       "      <td>CHEVROLET</td>\n",
       "      <td>EQUINOX</td>\n",
       "      <td>2011</td>\n",
       "      <td>Jeep</td>\n",
       "      <td>No</td>\n",
       "      <td>Petrol</td>\n",
       "      <td>3.0</td>\n",
       "      <td>NaN</td>\n",
       "      <td>192000</td>\n",
       "      <td>6</td>\n",
       "      <td>3</td>\n",
       "      <td>1</td>\n",
       "      <td>1</td>\n",
       "      <td>1</td>\n",
       "      <td>2</td>\n",
       "      <td>8</td>\n",
       "    </tr>\n",
       "    <tr>\n",
       "      <th>2</th>\n",
       "      <td>2</td>\n",
       "      <td>45774419</td>\n",
       "      <td>8467</td>\n",
       "      <td>0</td>\n",
       "      <td>HONDA</td>\n",
       "      <td>FIT</td>\n",
       "      <td>2006</td>\n",
       "      <td>Hatchback</td>\n",
       "      <td>No</td>\n",
       "      <td>Petrol</td>\n",
       "      <td>1.3</td>\n",
       "      <td>NaN</td>\n",
       "      <td>200000</td>\n",
       "      <td>4</td>\n",
       "      <td>4</td>\n",
       "      <td>2</td>\n",
       "      <td>1</td>\n",
       "      <td>2</td>\n",
       "      <td>2</td>\n",
       "      <td>2</td>\n",
       "    </tr>\n",
       "    <tr>\n",
       "      <th>3</th>\n",
       "      <td>3</td>\n",
       "      <td>45769185</td>\n",
       "      <td>3607</td>\n",
       "      <td>862</td>\n",
       "      <td>FORD</td>\n",
       "      <td>ESCAPE</td>\n",
       "      <td>2011</td>\n",
       "      <td>Jeep</td>\n",
       "      <td>Yes</td>\n",
       "      <td>Hybrid</td>\n",
       "      <td>2.5</td>\n",
       "      <td>NaN</td>\n",
       "      <td>168966</td>\n",
       "      <td>4</td>\n",
       "      <td>1</td>\n",
       "      <td>1</td>\n",
       "      <td>1</td>\n",
       "      <td>1</td>\n",
       "      <td>15</td>\n",
       "      <td>0</td>\n",
       "    </tr>\n",
       "    <tr>\n",
       "      <th>4</th>\n",
       "      <td>4</td>\n",
       "      <td>45809263</td>\n",
       "      <td>11726</td>\n",
       "      <td>446</td>\n",
       "      <td>HONDA</td>\n",
       "      <td>FIT</td>\n",
       "      <td>2014</td>\n",
       "      <td>Hatchback</td>\n",
       "      <td>Yes</td>\n",
       "      <td>Petrol</td>\n",
       "      <td>1.3</td>\n",
       "      <td>NaN</td>\n",
       "      <td>91901</td>\n",
       "      <td>4</td>\n",
       "      <td>1</td>\n",
       "      <td>2</td>\n",
       "      <td>1</td>\n",
       "      <td>1</td>\n",
       "      <td>13</td>\n",
       "      <td>4</td>\n",
       "    </tr>\n",
       "    <tr>\n",
       "      <th>...</th>\n",
       "      <td>...</td>\n",
       "      <td>...</td>\n",
       "      <td>...</td>\n",
       "      <td>...</td>\n",
       "      <td>...</td>\n",
       "      <td>...</td>\n",
       "      <td>...</td>\n",
       "      <td>...</td>\n",
       "      <td>...</td>\n",
       "      <td>...</td>\n",
       "      <td>...</td>\n",
       "      <td>...</td>\n",
       "      <td>...</td>\n",
       "      <td>...</td>\n",
       "      <td>...</td>\n",
       "      <td>...</td>\n",
       "      <td>...</td>\n",
       "      <td>...</td>\n",
       "      <td>...</td>\n",
       "      <td>...</td>\n",
       "    </tr>\n",
       "    <tr>\n",
       "      <th>19232</th>\n",
       "      <td>19232</td>\n",
       "      <td>45798355</td>\n",
       "      <td>8467</td>\n",
       "      <td>0</td>\n",
       "      <td>MERCEDES-BENZ</td>\n",
       "      <td>CLK 200</td>\n",
       "      <td>1999</td>\n",
       "      <td>Coupe</td>\n",
       "      <td>Yes</td>\n",
       "      <td>CNG</td>\n",
       "      <td>2.0</td>\n",
       "      <td>Turbo</td>\n",
       "      <td>300000</td>\n",
       "      <td>4</td>\n",
       "      <td>2</td>\n",
       "      <td>3</td>\n",
       "      <td>2</td>\n",
       "      <td>1</td>\n",
       "      <td>13</td>\n",
       "      <td>5</td>\n",
       "    </tr>\n",
       "    <tr>\n",
       "      <th>19233</th>\n",
       "      <td>19233</td>\n",
       "      <td>45778856</td>\n",
       "      <td>15681</td>\n",
       "      <td>831</td>\n",
       "      <td>HYUNDAI</td>\n",
       "      <td>SONATA</td>\n",
       "      <td>2011</td>\n",
       "      <td>Sedan</td>\n",
       "      <td>Yes</td>\n",
       "      <td>Petrol</td>\n",
       "      <td>2.4</td>\n",
       "      <td>NaN</td>\n",
       "      <td>161600</td>\n",
       "      <td>4</td>\n",
       "      <td>3</td>\n",
       "      <td>2</td>\n",
       "      <td>1</td>\n",
       "      <td>1</td>\n",
       "      <td>12</td>\n",
       "      <td>8</td>\n",
       "    </tr>\n",
       "    <tr>\n",
       "      <th>19234</th>\n",
       "      <td>19234</td>\n",
       "      <td>45804997</td>\n",
       "      <td>26108</td>\n",
       "      <td>836</td>\n",
       "      <td>HYUNDAI</td>\n",
       "      <td>TUCSON</td>\n",
       "      <td>2010</td>\n",
       "      <td>Jeep</td>\n",
       "      <td>Yes</td>\n",
       "      <td>Diesel</td>\n",
       "      <td>2.0</td>\n",
       "      <td>NaN</td>\n",
       "      <td>116365</td>\n",
       "      <td>4</td>\n",
       "      <td>1</td>\n",
       "      <td>2</td>\n",
       "      <td>1</td>\n",
       "      <td>1</td>\n",
       "      <td>8</td>\n",
       "      <td>4</td>\n",
       "    </tr>\n",
       "    <tr>\n",
       "      <th>19235</th>\n",
       "      <td>19235</td>\n",
       "      <td>45793526</td>\n",
       "      <td>5331</td>\n",
       "      <td>1288</td>\n",
       "      <td>CHEVROLET</td>\n",
       "      <td>CAPTIVA</td>\n",
       "      <td>2007</td>\n",
       "      <td>Jeep</td>\n",
       "      <td>Yes</td>\n",
       "      <td>Diesel</td>\n",
       "      <td>2.0</td>\n",
       "      <td>NaN</td>\n",
       "      <td>51258</td>\n",
       "      <td>4</td>\n",
       "      <td>1</td>\n",
       "      <td>2</td>\n",
       "      <td>1</td>\n",
       "      <td>1</td>\n",
       "      <td>2</td>\n",
       "      <td>4</td>\n",
       "    </tr>\n",
       "    <tr>\n",
       "      <th>19236</th>\n",
       "      <td>19236</td>\n",
       "      <td>45813273</td>\n",
       "      <td>470</td>\n",
       "      <td>753</td>\n",
       "      <td>HYUNDAI</td>\n",
       "      <td>SONATA</td>\n",
       "      <td>2012</td>\n",
       "      <td>Sedan</td>\n",
       "      <td>Yes</td>\n",
       "      <td>Hybrid</td>\n",
       "      <td>2.4</td>\n",
       "      <td>NaN</td>\n",
       "      <td>186923</td>\n",
       "      <td>4</td>\n",
       "      <td>1</td>\n",
       "      <td>2</td>\n",
       "      <td>1</td>\n",
       "      <td>1</td>\n",
       "      <td>15</td>\n",
       "      <td>12</td>\n",
       "    </tr>\n",
       "  </tbody>\n",
       "</table>\n",
       "<p>19237 rows × 20 columns</p>\n",
       "</div>"
      ],
      "text/plain": [
       "       Unnamed: 0        ID  Price  Levy   Manufacturer    Model  Prod_year  \\\n",
       "0               0  45654403  13328  1399          LEXUS   RX 450       2010   \n",
       "1               1  44731507  16621  1018      CHEVROLET  EQUINOX       2011   \n",
       "2               2  45774419   8467     0          HONDA      FIT       2006   \n",
       "3               3  45769185   3607   862           FORD   ESCAPE       2011   \n",
       "4               4  45809263  11726   446          HONDA      FIT       2014   \n",
       "...           ...       ...    ...   ...            ...      ...        ...   \n",
       "19232       19232  45798355   8467     0  MERCEDES-BENZ  CLK 200       1999   \n",
       "19233       19233  45778856  15681   831        HYUNDAI   SONATA       2011   \n",
       "19234       19234  45804997  26108   836        HYUNDAI   TUCSON       2010   \n",
       "19235       19235  45793526   5331  1288      CHEVROLET  CAPTIVA       2007   \n",
       "19236       19236  45813273    470   753        HYUNDAI   SONATA       2012   \n",
       "\n",
       "        Category Leather_interior Fuel_type  Engine_volume  Turbo  Mileage  \\\n",
       "0           Jeep              Yes    Hybrid            3.5    NaN   186005   \n",
       "1           Jeep               No    Petrol            3.0    NaN   192000   \n",
       "2      Hatchback               No    Petrol            1.3    NaN   200000   \n",
       "3           Jeep              Yes    Hybrid            2.5    NaN   168966   \n",
       "4      Hatchback              Yes    Petrol            1.3    NaN    91901   \n",
       "...          ...              ...       ...            ...    ...      ...   \n",
       "19232      Coupe              Yes       CNG            2.0  Turbo   300000   \n",
       "19233      Sedan              Yes    Petrol            2.4    NaN   161600   \n",
       "19234       Jeep              Yes    Diesel            2.0    NaN   116365   \n",
       "19235       Jeep              Yes    Diesel            2.0    NaN    51258   \n",
       "19236      Sedan              Yes    Hybrid            2.4    NaN   186923   \n",
       "\n",
       "       Cylinders  Gear_box_type  Drive_wheels  Doors  Wheel  Color  Airbags  \n",
       "0              6              1             1      1      1     13       12  \n",
       "1              6              3             1      1      1      2        8  \n",
       "2              4              4             2      1      2      2        2  \n",
       "3              4              1             1      1      1     15        0  \n",
       "4              4              1             2      1      1     13        4  \n",
       "...          ...            ...           ...    ...    ...    ...      ...  \n",
       "19232          4              2             3      2      1     13        5  \n",
       "19233          4              3             2      1      1     12        8  \n",
       "19234          4              1             2      1      1      8        4  \n",
       "19235          4              1             2      1      1      2        4  \n",
       "19236          4              1             2      1      1     15       12  \n",
       "\n",
       "[19237 rows x 20 columns]"
      ]
     },
     "execution_count": 6,
     "metadata": {},
     "output_type": "execute_result"
    }
   ],
   "source": [
    "df # display dataset"
   ]
  },
  {
   "cell_type": "markdown",
   "id": "28cdbab3-0636-4b7d-af76-146664d0eed2",
   "metadata": {},
   "source": [
    "Some of the categories had incorrect/corrupted data, using python I corrected the values.\n",
    "$\\newline$\n",
    "For example, the Colomb Door had values (2-Mar, 4-May, 5)\n",
    "$\\newline$\n",
    "2-Mar ment 2-3 doors \n",
    "$\\newline$\n",
    "4-May ment 4-5 doors."
   ]
  },
  {
   "cell_type": "markdown",
   "id": "4d1fd693-c39b-45d2-81c5-107cbd6bc70d",
   "metadata": {},
   "source": [
    "Inorder to plot the colombs Gear_box_type, Drive_wheels, Wheel and Clolr on a scatter plot, I transformed them to numerical variables because they were categorical. "
   ]
  },
  {
   "cell_type": "code",
   "execution_count": 7,
   "id": "0eaf945b",
   "metadata": {},
   "outputs": [],
   "source": [
    "prodyear = df['Prod_year'].head(100)\n",
    "price = df['Price'].head(100).head(100)\n",
    "cylinders = df['Cylinders'].head(100)\n",
    "gearboxtype = df['Gear_box_type'].head(100)\n",
    "drivewheels = df['Drive_wheels'].head(100)\n",
    "doors = df['Doors'].head(100)\n",
    "wheel = df['Wheel'].head(100)\n",
    "color = df['Color'].head(100)\n",
    "airbags = df['Airbags'].head(100)"
   ]
  },
  {
   "cell_type": "markdown",
   "id": "6ace33f8-461a-4032-8dcb-2673ead146d8",
   "metadata": {},
   "source": [
    "I selected 100 data in each columb tto plot them and check if there are any outlires "
   ]
  },
  {
   "cell_type": "code",
   "execution_count": 12,
   "id": "d578f766",
   "metadata": {},
   "outputs": [
    {
     "data": {
      "image/png": "[encoded data removed]",
      "text/plain": [
       "<Figure size 720x288 with 1 Axes>"
      ]
     },
     "metadata": {
      "needs_background": "light"
     },
     "output_type": "display_data"
    }
   ],
   "source": [
    "fig,ax = plt.subplots(figsize = (10,4)) # resize the plot \n",
    "plt.scatter(drivewheels, price);# create a scatter plot, drivewheels agenst price\n",
    "plt.title('Drive wheels vs price')\n",
    "plt.ylabel('Price')\n",
    "plt.xlabel('Drive wheels type')\n",
    "plt.show()"
   ]
  },
  {
   "cell_type": "markdown",
   "id": "76afc68f-1439-448a-8bc7-1c5dc300fb75",
   "metadata": {},
   "source": [
    "4x4  1\n",
    "$\\newline$\n",
    "Front  2\n",
    "$\\newline$\n",
    "Rear  3"
   ]
  },
  {
   "cell_type": "code",
   "execution_count": 56,
   "id": "7caaed25",
   "metadata": {},
   "outputs": [
    {
     "data": {
      "image/png": "[encoded data removed]",
      "text/plain": [
       "<Figure size 720x288 with 1 Axes>"
      ]
     },
     "metadata": {
      "needs_background": "light"
     },
     "output_type": "display_data"
    }
   ],
   "source": [
    "fig,ax = plt.subplots(figsize = (10,4)) # resize the plot \n",
    "plt.scatter(cylinders, price); # create a scatter plot, cyluders agenst price\n",
    "plt.title('cylinders vs price') # plot title\n",
    "plt.ylabel('Price') # plot y labe\n",
    "plt.xlabel('cylinders') # plot x lable\n",
    "plt.show() # display plot"
   ]
  },
  {
   "cell_type": "code",
   "execution_count": 14,
   "id": "c00ba7bb-4016-4346-947d-ec5b52304df2",
   "metadata": {},
   "outputs": [
    {
     "data": {
      "image/png": "[encoded data removed]",
      "text/plain": [
       "<Figure size 720x288 with 1 Axes>"
      ]
     },
     "metadata": {
      "needs_background": "light"
     },
     "output_type": "display_data"
    }
   ],
   "source": [
    "fig,ax = plt.subplots(figsize = (10,4)) # resize the plot \n",
    "plt.scatter(gearboxtype, price); # create a scatter plot, gearbox type agenst price\n",
    "plt.title('gearbox type vs price') # plot title\n",
    "plt.ylabel('Price') # plot y labe\n",
    "plt.xlabel('gearbox type') # plot x lable\n",
    "plt.show() # display plot"
   ]
  },
  {
   "cell_type": "markdown",
   "id": "1c5850e1-0142-46fd-ba56-79dd34214115",
   "metadata": {},
   "source": [
    "Automatic  1\n",
    "$\\newline$\n",
    "Manual  2\n",
    "$\\newline$\n",
    "Tiptronic  3\n",
    "$\\newline$\n",
    "Variator  4"
   ]
  },
  {
   "cell_type": "code",
   "execution_count": 16,
   "id": "e99fc5a5-36bb-4eb3-b8ab-84e8c5720e14",
   "metadata": {},
   "outputs": [
    {
     "data": {
      "image/png": "[encoded data removed]",
      "text/plain": [
       "<Figure size 432x288 with 1 Axes>"
      ]
     },
     "metadata": {
      "needs_background": "light"
     },
     "output_type": "display_data"
    }
   ],
   "source": [
    "plt.scatter(doors, price); # create a scatter plot, doors agenst price\n",
    "plt.title('doors vs price') # plot title\n",
    "plt.ylabel('Price') # plot y labe\n",
    "plt.xlabel('doors') # plot x lable\n",
    "plt.show() # display plot"
   ]
  },
  {
   "cell_type": "markdown",
   "id": "c8f21ce6-fc1d-44d1-a91f-0b3334048acd",
   "metadata": {},
   "source": [
    "4-5  1 \n",
    "$\\newline$\n",
    "2-3  2\n",
    "$\\newline$\n",
    "5+  3"
   ]
  },
  {
   "cell_type": "code",
   "execution_count": 18,
   "id": "e78f075e-4e31-4b81-9eb7-4e1a2b1c306b",
   "metadata": {},
   "outputs": [
    {
     "data": {
      "image/png": "[encoded data removed]",
      "text/plain": [
       "<Figure size 432x288 with 1 Axes>"
      ]
     },
     "metadata": {
      "needs_background": "light"
     },
     "output_type": "display_data"
    }
   ],
   "source": [
    "plt.scatter(wheel, price); # create a scatter plot, wheel agenst price\n",
    "plt.title('wheel vs price') # plot title\n",
    "plt.ylabel('Price') # plot y labe\n",
    "plt.xlabel('wheel') # plot x lable\n",
    "plt.show() # display plot"
   ]
  },
  {
   "cell_type": "markdown",
   "id": "078cfc90-b3eb-4c5c-98cc-a9865ceb8bf4",
   "metadata": {},
   "source": [
    "Left Wheel  1\n",
    "$\\newline$\n",
    "Right-hand Drive  2"
   ]
  },
  {
   "cell_type": "code",
   "execution_count": 57,
   "id": "92c32b07-fc63-49a4-981d-02576a533c2a",
   "metadata": {},
   "outputs": [
    {
     "data": {
      "image/png": "[encoded data removed]",
      "text/plain": [
       "<Figure size 720x288 with 1 Axes>"
      ]
     },
     "metadata": {
      "needs_background": "light"
     },
     "output_type": "display_data"
    }
   ],
   "source": [
    "fig,ax = plt.subplots(figsize = (10,4)) # resize the plot \n",
    "plt.scatter(color, price); # create a scatter plot, color agenst price\n",
    "plt.title('color vs price') # plot title\n",
    "plt.ylabel('price') # plot y labe\n",
    "plt.xlabel('color') # plot x lable\n",
    "plt.show() # display plot"
   ]
  },
  {
   "cell_type": "markdown",
   "id": "66388a5c-4f10-4a5c-ba52-cc8f4d507454",
   "metadata": {},
   "source": [
    "Beige  1\n",
    "$\\newline$\n",
    "Black  2\n",
    "$\\newline$\n",
    "Blue  3\n",
    "$\\newline$\n",
    "Brown  4\n",
    "$\\newline$\n",
    "Carnelian red  5\n",
    "$\\newline$\n",
    "Golden  6\n",
    "$\\newline$\n",
    "Green  7\n",
    "$\\newline$\n",
    "Gray  8\n",
    "$\\newline$\n",
    "Orange  9\n",
    "$\\newline$\n",
    "Pink  10\n",
    "$\\newline$\n",
    "Purple  11\n",
    "$\\newline$\n",
    "Red  12\n"
   ]
  },
  {
   "cell_type": "code",
   "execution_count": 20,
   "id": "4b182462-6933-4963-860d-8577e6ee3976",
   "metadata": {},
   "outputs": [
    {
     "data": {
      "image/png": "[encoded data removed]",
      "text/plain": [
       "<Figure size 720x288 with 1 Axes>"
      ]
     },
     "metadata": {
      "needs_background": "light"
     },
     "output_type": "display_data"
    }
   ],
   "source": [
    "fig,ax = plt.subplots(figsize = (10,4)) # resize the plot \n",
    "plt.scatter(airbags, price); # create a scatter plot, air bags agenst price\n",
    "plt.title('doors vs price') #plot title\n",
    "plt.ylabel('Price') #plot y labe\n",
    "plt.xlabel('air bags') #plot x lable\n",
    "plt.show() #display plot"
   ]
  },
  {
   "cell_type": "markdown",
   "id": "af0b0308-e918-45ad-ae26-e7abdee0adcf",
   "metadata": {},
   "source": [
    "### findings"
   ]
  },
  {
   "cell_type": "markdown",
   "id": "19620c30-b3eb-432a-afef-e0f89551988b",
   "metadata": {},
   "source": [
    "After plotting the coulombs Cylinders, Gear_box_type, Drive_wheels, Doors, Wheel, Color, and Airbags against Price, I came to conclude that there is no severe case of outlier, therefore the data does not require transformation."
   ]
  }
 ],
 "metadata": {
  "kernelspec": {
   "display_name": "Python 3 (ipykernel)",
   "language": "python",
   "name": "python3"
  },
  "language_info": {
   "codemirror_mode": {
    "name": "ipython",
    "version": 3
   },
   "file_extension": ".py",
   "mimetype": "text/x-python",
   "name": "python",
   "nbconvert_exporter": "python",
   "pygments_lexer": "ipython3",
   "version": "3.9.12"
  }
 },
 "nbformat": 4,
 "nbformat_minor": 5
}
