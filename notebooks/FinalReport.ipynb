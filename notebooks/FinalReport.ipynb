{
 "cells": [
  {
   "cell_type": "markdown",
   "id": "6874ae2a-45fb-4bb6-9b87-0f77df59f444",
   "metadata": {},
   "source": [
    "##### $Name:\\,\\color{blue}{Bin\\,Lu,\\,Maymoonah\\,Bashir,\\,Christopher\\,J.\\,Watson}$\n",
    "##### $School:\\,\\color{blue}{Marcos\\,School\\,of\\,Engineering,\\,University\\,of\\,San\\,Diego}$\n",
    "##### $Class:\\,\\color{blue}{AAI\\,500-\\,Probability\\,\\&\\,Stats\\,for\\,AI}$\n",
    "##### $Assignment:\\,\\color{blue}{MSAAI\\,Final Project-Make\\,and\\,Model}$\n",
    "##### $Date:\\,\\color{blue}{10/22/2022}$"
   ]
  },
  {
   "cell_type": "code",
   "execution_count": null,
   "id": "246032ef-a32b-4685-8127-a5ee94b5e3e0",
   "metadata": {},
   "outputs": [],
   "source": []
  }
 ],
 "metadata": {
  "kernelspec": {
   "display_name": "Python 3 (ipykernel)",
   "language": "python",
   "name": "python3"
  },
  "language_info": {
   "codemirror_mode": {
    "name": "ipython",
    "version": 3
   },
   "file_extension": ".py",
   "mimetype": "text/x-python",
   "name": "python",
   "nbconvert_exporter": "python",
   "pygments_lexer": "ipython3",
   "version": "3.9.12"
  }
 },
 "nbformat": 4,
 "nbformat_minor": 5
}
