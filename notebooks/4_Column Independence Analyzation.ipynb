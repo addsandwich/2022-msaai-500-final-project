{
 "cells": [
  {
   "cell_type": "markdown",
   "id": "97acedae-1661-4b0c-a8fb-068c90c78461",
   "metadata": {},
   "source": [
    "### Column Independence Analyzation"
   ]
  },
  {
   "cell_type": "code",
   "execution_count": null,
   "id": "029939c1-9d72-4ad8-89ab-83405fcfc9c5",
   "metadata": {},
   "outputs": [],
   "source": []
  }
 ],
 "metadata": {
  "kernelspec": {
   "display_name": "Python 3 (ipykernel)",
   "language": "python",
   "name": "python3"
  },
  "language_info": {
   "codemirror_mode": {
    "name": "ipython",
    "version": 3
   },
   "file_extension": ".py",
   "mimetype": "text/x-python",
   "name": "python",
   "nbconvert_exporter": "python",
   "pygments_lexer": "ipython3",
   "version": "3.9.12"
  }
 },
 "nbformat": 4,
 "nbformat_minor": 5
}
