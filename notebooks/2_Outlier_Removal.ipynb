{
 "cells": [
  {
   "cell_type": "markdown",
   "id": "71a284dc-b136-4365-a9cd-303ca9c57101",
   "metadata": {},
   "source": [
    "##### $Name:\\,\\color{blue}{Bin\\,Lu,\\,Maymoonah\\,Bashir,\\,Christopher\\,J.\\,Watson}$\n",
    "##### $School:\\,\\color{blue}{Marcos\\,School\\,of\\,Engineering,\\,University\\,of\\,San\\,Diego}$\n",
    "##### $Class:\\,\\color{blue}{AAI\\,500-\\,Probability\\,\\&\\,Stats\\,for\\,AI}$\n",
    "##### $Assignment:\\,\\color{blue}{MSAAI\\,Final Project-Outliers}$\n",
    "##### $Date:\\,\\color{blue}{10/22/2022}$"
   ]
  },
  {
   "cell_type": "markdown",
   "id": "f941af9b-78ce-423c-a083-c59f9bfd062e",
   "metadata": {
    "tags": []
   },
   "source": [
    "### Problem - Outlier Handling"
   ]
  },
  {
   "cell_type": "markdown",
   "id": "bd15a81f-296d-4e3e-ac93-3044f26c8ee3",
   "metadata": {},
   "source": [
    "Statement - The problem with massive outliers is that they can skew the data and make it harder to work with or understand. Many times we would want a model to be resistant against such outliers so training with them is encouraged. There are 2 main reasons we will remove some outliers for our project. \n",
    "$\\newline$\n",
    "1) The point of this model is to predict the price of a car. We wouldn't want to give someone a prediction that is well over value which could inflate the market or make it difficult to sell their vehicle. We also wouldn't want to tell them to give away their car for free, or just a dollar. Some cars can be cheap but generally transactions like that are prices of people giving the car to a family or friend.\n",
    "$\\newline$\n",
    "2) When observing the data there was a car that was sold for 26 million. This is obviously a data error of some form. Maybe the van also contained quite a few gold bars. Reguardless of why, this is multiple powers of 10 outside of the normal range, and with this in mind we should remove outliers of this nature."
   ]
  },
  {
   "cell_type": "code",
   "execution_count": 1,
   "id": "a0916948-ac21-47a3-93b4-92c2813ced8f",
   "metadata": {},
   "outputs": [
    {
     "name": "stdout",
     "output_type": "stream",
     "text": [
      "The shape of the dataframe is:  (19237, 20)\n"
     ]
    }
   ],
   "source": [
    "# Importing important libraries\n",
    "import numpy as np\n",
    "import pandas as pd\n",
    "import seaborn as sns\n",
    "import matplotlib.pyplot as plt\n",
    "import data_utils_g1 as du\n",
    "plt.style.use('seaborn')\n",
    "\n",
    "# Get Path\n",
    "path = 'C:/Users/chris/Documents/School/Masters/zz_GIT/2022-msaai-500-final-project/data/sanitized/sanitized_1_final.csv'\n",
    "\n",
    "# Reading the dataset\n",
    "data = pd.read_csv(path)\n",
    "print(\"The shape of the dataframe is: \", data.shape)"
   ]
  },
  {
   "cell_type": "code",
   "execution_count": 6,
   "id": "a3bf4b09-1a98-41b6-937b-544fc6904bc5",
   "metadata": {},
   "outputs": [
    {
     "data": {
      "text/html": [
       "<div>\n",
       "<style scoped>\n",
       "    .dataframe tbody tr th:only-of-type {\n",
       "        vertical-align: middle;\n",
       "    }\n",
       "\n",
       "    .dataframe tbody tr th {\n",
       "        vertical-align: top;\n",
       "    }\n",
       "\n",
       "    .dataframe thead th {\n",
       "        text-align: right;\n",
       "    }\n",
       "</style>\n",
       "<table border=\"1\" class=\"dataframe\">\n",
       "  <thead>\n",
       "    <tr style=\"text-align: right;\">\n",
       "      <th></th>\n",
       "      <th>Unnamed: 0</th>\n",
       "      <th>ID</th>\n",
       "      <th>Price</th>\n",
       "      <th>Levy</th>\n",
       "      <th>Prod_year</th>\n",
       "      <th>Engine_volume</th>\n",
       "      <th>Mileage</th>\n",
       "      <th>Cylinders</th>\n",
       "      <th>Airbags</th>\n",
       "    </tr>\n",
       "  </thead>\n",
       "  <tbody>\n",
       "    <tr>\n",
       "      <th>count</th>\n",
       "      <td>19237.0000</td>\n",
       "      <td>1.923700e+04</td>\n",
       "      <td>1.923700e+04</td>\n",
       "      <td>19237.000000</td>\n",
       "      <td>19237.000000</td>\n",
       "      <td>19237.000000</td>\n",
       "      <td>1.923700e+04</td>\n",
       "      <td>19237.000000</td>\n",
       "      <td>19237.000000</td>\n",
       "    </tr>\n",
       "    <tr>\n",
       "      <th>mean</th>\n",
       "      <td>9618.0000</td>\n",
       "      <td>4.557654e+07</td>\n",
       "      <td>1.855593e+04</td>\n",
       "      <td>632.528669</td>\n",
       "      <td>2010.912824</td>\n",
       "      <td>2.307990</td>\n",
       "      <td>1.532236e+06</td>\n",
       "      <td>4.582991</td>\n",
       "      <td>6.582627</td>\n",
       "    </tr>\n",
       "    <tr>\n",
       "      <th>std</th>\n",
       "      <td>5553.3879</td>\n",
       "      <td>9.365914e+05</td>\n",
       "      <td>1.905813e+05</td>\n",
       "      <td>567.721688</td>\n",
       "      <td>5.668673</td>\n",
       "      <td>0.877805</td>\n",
       "      <td>4.840387e+07</td>\n",
       "      <td>1.199933</td>\n",
       "      <td>4.320168</td>\n",
       "    </tr>\n",
       "    <tr>\n",
       "      <th>min</th>\n",
       "      <td>0.0000</td>\n",
       "      <td>2.074688e+07</td>\n",
       "      <td>1.000000e+00</td>\n",
       "      <td>0.000000</td>\n",
       "      <td>1939.000000</td>\n",
       "      <td>0.000000</td>\n",
       "      <td>0.000000e+00</td>\n",
       "      <td>1.000000</td>\n",
       "      <td>0.000000</td>\n",
       "    </tr>\n",
       "    <tr>\n",
       "      <th>25%</th>\n",
       "      <td>4809.0000</td>\n",
       "      <td>4.569837e+07</td>\n",
       "      <td>5.331000e+03</td>\n",
       "      <td>0.000000</td>\n",
       "      <td>2009.000000</td>\n",
       "      <td>1.800000</td>\n",
       "      <td>7.013900e+04</td>\n",
       "      <td>4.000000</td>\n",
       "      <td>4.000000</td>\n",
       "    </tr>\n",
       "    <tr>\n",
       "      <th>50%</th>\n",
       "      <td>9618.0000</td>\n",
       "      <td>4.577231e+07</td>\n",
       "      <td>1.317200e+04</td>\n",
       "      <td>642.000000</td>\n",
       "      <td>2012.000000</td>\n",
       "      <td>2.000000</td>\n",
       "      <td>1.260000e+05</td>\n",
       "      <td>4.000000</td>\n",
       "      <td>6.000000</td>\n",
       "    </tr>\n",
       "    <tr>\n",
       "      <th>75%</th>\n",
       "      <td>14427.0000</td>\n",
       "      <td>4.580204e+07</td>\n",
       "      <td>2.207500e+04</td>\n",
       "      <td>917.000000</td>\n",
       "      <td>2015.000000</td>\n",
       "      <td>2.500000</td>\n",
       "      <td>1.888880e+05</td>\n",
       "      <td>4.000000</td>\n",
       "      <td>12.000000</td>\n",
       "    </tr>\n",
       "    <tr>\n",
       "      <th>max</th>\n",
       "      <td>19236.0000</td>\n",
       "      <td>4.581665e+07</td>\n",
       "      <td>2.630750e+07</td>\n",
       "      <td>11714.000000</td>\n",
       "      <td>2020.000000</td>\n",
       "      <td>20.000000</td>\n",
       "      <td>2.147484e+09</td>\n",
       "      <td>16.000000</td>\n",
       "      <td>16.000000</td>\n",
       "    </tr>\n",
       "  </tbody>\n",
       "</table>\n",
       "</div>"
      ],
      "text/plain": [
       "       Unnamed: 0            ID         Price          Levy     Prod_year  \\\n",
       "count  19237.0000  1.923700e+04  1.923700e+04  19237.000000  19237.000000   \n",
       "mean    9618.0000  4.557654e+07  1.855593e+04    632.528669   2010.912824   \n",
       "std     5553.3879  9.365914e+05  1.905813e+05    567.721688      5.668673   \n",
       "min        0.0000  2.074688e+07  1.000000e+00      0.000000   1939.000000   \n",
       "25%     4809.0000  4.569837e+07  5.331000e+03      0.000000   2009.000000   \n",
       "50%     9618.0000  4.577231e+07  1.317200e+04    642.000000   2012.000000   \n",
       "75%    14427.0000  4.580204e+07  2.207500e+04    917.000000   2015.000000   \n",
       "max    19236.0000  4.581665e+07  2.630750e+07  11714.000000   2020.000000   \n",
       "\n",
       "       Engine_volume       Mileage     Cylinders       Airbags  \n",
       "count   19237.000000  1.923700e+04  19237.000000  19237.000000  \n",
       "mean        2.307990  1.532236e+06      4.582991      6.582627  \n",
       "std         0.877805  4.840387e+07      1.199933      4.320168  \n",
       "min         0.000000  0.000000e+00      1.000000      0.000000  \n",
       "25%         1.800000  7.013900e+04      4.000000      4.000000  \n",
       "50%         2.000000  1.260000e+05      4.000000      6.000000  \n",
       "75%         2.500000  1.888880e+05      4.000000     12.000000  \n",
       "max        20.000000  2.147484e+09     16.000000     16.000000  "
      ]
     },
     "execution_count": 6,
     "metadata": {},
     "output_type": "execute_result"
    }
   ],
   "source": [
    "# Understand the data\n",
    "data.describe()"
   ]
  },
  {
   "cell_type": "code",
   "execution_count": 3,
   "id": "7effcb1a-5741-46bf-a5e4-10a4a41b09a9",
   "metadata": {},
   "outputs": [
    {
     "data": {
      "image/png": "[encoded data removed]",
      "text/plain": [
       "<Figure size 432x288 with 1 Axes>"
      ]
     },
     "metadata": {},
     "output_type": "display_data"
    }
   ],
   "source": [
    "# This is a boxplot of the data, notice the massive outlier\n",
    "plt.figure(figsize=(6,4))\n",
    "sns.boxplot(x=data['Price'])\n",
    "plt.show()"
   ]
  },
  {
   "cell_type": "markdown",
   "id": "268735b3-4d12-4739-9e2a-22cad900ba6e",
   "metadata": {},
   "source": [
    "As shown in the box plot above there is at least 1 super outlier that completely harms the data. Using a systematic attempt it was removed."
   ]
  },
  {
   "cell_type": "code",
   "execution_count": 7,
   "id": "8a78de6c-e9c0-40d5-be1a-437a0d9f1f0d",
   "metadata": {},
   "outputs": [
    {
     "name": "stdout",
     "output_type": "stream",
     "text": [
      "The lower data limit is $3.00 and the upper data limit is $345384.78\n"
     ]
    },
    {
     "data": {
      "text/html": [
       "<div>\n",
       "<style scoped>\n",
       "    .dataframe tbody tr th:only-of-type {\n",
       "        vertical-align: middle;\n",
       "    }\n",
       "\n",
       "    .dataframe tbody tr th {\n",
       "        vertical-align: top;\n",
       "    }\n",
       "\n",
       "    .dataframe thead th {\n",
       "        text-align: right;\n",
       "    }\n",
       "</style>\n",
       "<table border=\"1\" class=\"dataframe\">\n",
       "  <thead>\n",
       "    <tr style=\"text-align: right;\">\n",
       "      <th></th>\n",
       "      <th>Unnamed: 0</th>\n",
       "      <th>ID</th>\n",
       "      <th>Price</th>\n",
       "      <th>Levy</th>\n",
       "      <th>Prod_year</th>\n",
       "      <th>Engine_volume</th>\n",
       "      <th>Mileage</th>\n",
       "      <th>Cylinders</th>\n",
       "      <th>Airbags</th>\n",
       "    </tr>\n",
       "  </thead>\n",
       "  <tbody>\n",
       "    <tr>\n",
       "      <th>count</th>\n",
       "      <td>19217.000000</td>\n",
       "      <td>1.921700e+04</td>\n",
       "      <td>19217.000000</td>\n",
       "      <td>19217.000000</td>\n",
       "      <td>19217.000000</td>\n",
       "      <td>19217.000000</td>\n",
       "      <td>1.921700e+04</td>\n",
       "      <td>19217.000000</td>\n",
       "      <td>19217.000000</td>\n",
       "    </tr>\n",
       "    <tr>\n",
       "      <th>mean</th>\n",
       "      <td>9618.009887</td>\n",
       "      <td>4.557636e+07</td>\n",
       "      <td>17128.202061</td>\n",
       "      <td>632.751782</td>\n",
       "      <td>2010.913670</td>\n",
       "      <td>2.308102</td>\n",
       "      <td>1.421973e+06</td>\n",
       "      <td>4.582453</td>\n",
       "      <td>6.583286</td>\n",
       "    </tr>\n",
       "    <tr>\n",
       "      <th>std</th>\n",
       "      <td>5553.556104</td>\n",
       "      <td>9.370593e+05</td>\n",
       "      <td>18279.641947</td>\n",
       "      <td>567.652166</td>\n",
       "      <td>5.666155</td>\n",
       "      <td>0.877367</td>\n",
       "      <td>4.588801e+07</td>\n",
       "      <td>1.198624</td>\n",
       "      <td>4.319785</td>\n",
       "    </tr>\n",
       "    <tr>\n",
       "      <th>min</th>\n",
       "      <td>0.000000</td>\n",
       "      <td>2.074688e+07</td>\n",
       "      <td>6.000000</td>\n",
       "      <td>0.000000</td>\n",
       "      <td>1939.000000</td>\n",
       "      <td>0.000000</td>\n",
       "      <td>0.000000e+00</td>\n",
       "      <td>1.000000</td>\n",
       "      <td>0.000000</td>\n",
       "    </tr>\n",
       "    <tr>\n",
       "      <th>25%</th>\n",
       "      <td>4808.000000</td>\n",
       "      <td>4.569837e+07</td>\n",
       "      <td>5331.000000</td>\n",
       "      <td>0.000000</td>\n",
       "      <td>2009.000000</td>\n",
       "      <td>1.800000</td>\n",
       "      <td>7.019400e+04</td>\n",
       "      <td>4.000000</td>\n",
       "      <td>4.000000</td>\n",
       "    </tr>\n",
       "    <tr>\n",
       "      <th>50%</th>\n",
       "      <td>9618.000000</td>\n",
       "      <td>4.577234e+07</td>\n",
       "      <td>13172.000000</td>\n",
       "      <td>642.000000</td>\n",
       "      <td>2012.000000</td>\n",
       "      <td>2.000000</td>\n",
       "      <td>1.260210e+05</td>\n",
       "      <td>4.000000</td>\n",
       "      <td>6.000000</td>\n",
       "    </tr>\n",
       "    <tr>\n",
       "      <th>75%</th>\n",
       "      <td>14426.000000</td>\n",
       "      <td>4.580204e+07</td>\n",
       "      <td>22110.000000</td>\n",
       "      <td>917.000000</td>\n",
       "      <td>2015.000000</td>\n",
       "      <td>2.500000</td>\n",
       "      <td>1.888880e+05</td>\n",
       "      <td>4.000000</td>\n",
       "      <td>12.000000</td>\n",
       "    </tr>\n",
       "    <tr>\n",
       "      <th>max</th>\n",
       "      <td>19236.000000</td>\n",
       "      <td>4.581665e+07</td>\n",
       "      <td>308906.000000</td>\n",
       "      <td>11714.000000</td>\n",
       "      <td>2020.000000</td>\n",
       "      <td>20.000000</td>\n",
       "      <td>2.147484e+09</td>\n",
       "      <td>16.000000</td>\n",
       "      <td>16.000000</td>\n",
       "    </tr>\n",
       "  </tbody>\n",
       "</table>\n",
       "</div>"
      ],
      "text/plain": [
       "         Unnamed: 0            ID          Price          Levy     Prod_year  \\\n",
       "count  19217.000000  1.921700e+04   19217.000000  19217.000000  19217.000000   \n",
       "mean    9618.009887  4.557636e+07   17128.202061    632.751782   2010.913670   \n",
       "std     5553.556104  9.370593e+05   18279.641947    567.652166      5.666155   \n",
       "min        0.000000  2.074688e+07       6.000000      0.000000   1939.000000   \n",
       "25%     4808.000000  4.569837e+07    5331.000000      0.000000   2009.000000   \n",
       "50%     9618.000000  4.577234e+07   13172.000000    642.000000   2012.000000   \n",
       "75%    14426.000000  4.580204e+07   22110.000000    917.000000   2015.000000   \n",
       "max    19236.000000  4.581665e+07  308906.000000  11714.000000   2020.000000   \n",
       "\n",
       "       Engine_volume       Mileage     Cylinders       Airbags  \n",
       "count   19217.000000  1.921700e+04  19217.000000  19217.000000  \n",
       "mean        2.308102  1.421973e+06      4.582453      6.583286  \n",
       "std         0.877367  4.588801e+07      1.198624      4.319785  \n",
       "min         0.000000  0.000000e+00      1.000000      0.000000  \n",
       "25%         1.800000  7.019400e+04      4.000000      4.000000  \n",
       "50%         2.000000  1.260210e+05      4.000000      6.000000  \n",
       "75%         2.500000  1.888880e+05      4.000000     12.000000  \n",
       "max        20.000000  2.147484e+09     16.000000     16.000000  "
      ]
     },
     "execution_count": 7,
     "metadata": {},
     "output_type": "execute_result"
    }
   ],
   "source": [
    "# Use data utils function for group 2\n",
    "# This is the column to base the decision on \n",
    "decision_column = 'Price'\n",
    "# Function Call to our utils library - see Appendix-2\n",
    "Q3, Q1, filtered_data = du.remove_outliers2(data, decision_column)\n",
    "\n",
    "# print nice answer\n",
    "print(f'The lower data limit is ${Q1:.2f} and the upper data limit is ${Q3:.2f}')\n",
    "\n",
    "# Understand the data\n",
    "filtered_data.describe()"
   ]
  },
  {
   "cell_type": "code",
   "execution_count": 5,
   "id": "5b35157b-6df9-4a21-ae2e-33a888bfd15b",
   "metadata": {},
   "outputs": [
    {
     "data": {
      "image/png": "[encoded data removed]",
      "text/plain": [
       "<Figure size 432x288 with 1 Axes>"
      ]
     },
     "metadata": {},
     "output_type": "display_data"
    }
   ],
   "source": [
    "# This is a boxplot of the data, with outliers removed\n",
    "plt.figure(figsize=(6,4))\n",
    "sns.boxplot(x=filtered_data['Price'])\n",
    "plt.show()"
   ]
  },
  {
   "cell_type": "markdown",
   "id": "b80928d0-2742-49ea-8df9-a3462b315b0c",
   "metadata": {},
   "source": [
    "As we can see from the table and the box plot, although there are still outliers, the ones that massively skewed the data have been removed. In my opinion, more could have been removed from the bottom but we decided that it would be even on both the left and the right sides of the data. \n",
    "$\\newline$\n",
    "Upper percentile from base data = 0.99985\n",
    "$\\newline$\n",
    "Lower percentile from base data = 0.00015\n",
    "$\\newline$"
   ]
  },
  {
   "cell_type": "markdown",
   "id": "4d0be3ef-57d8-42b0-88b2-d7f40da9b964",
   "metadata": {
    "jp-MarkdownHeadingCollapsed": true,
    "tags": []
   },
   "source": [
    "### In conclusion, this removal was required to make an accurate model for suggesting what a costumer should sell their car for in the market."
   ]
  }
 ],
 "metadata": {
  "kernelspec": {
   "display_name": "Python 3 (ipykernel)",
   "language": "python",
   "name": "python3"
  },
  "language_info": {
   "codemirror_mode": {
    "name": "ipython",
    "version": 3
   },
   "file_extension": ".py",
   "mimetype": "text/x-python",
   "name": "python",
   "nbconvert_exporter": "python",
   "pygments_lexer": "ipython3",
   "version": "3.9.12"
  }
 },
 "nbformat": 4,
 "nbformat_minor": 5
}
