{
 "cells": [
  {
   "cell_type": "code",
   "execution_count": 1,
   "id": "3adac493-5a82-4823-be47-cb1444e6f6ca",
   "metadata": {},
   "outputs": [],
   "source": [
    "import data_fix as dfix\n",
    "import data_utils_g1 as du"
   ]
  },
  {
   "cell_type": "code",
   "execution_count": 2,
   "id": "6d477522-1e92-4c45-a25c-a3ead3d4efc9",
   "metadata": {},
   "outputs": [
    {
     "name": "stdout",
     "output_type": "stream",
     "text": [
      "Replacing all special characters for clean read\n",
      "Asking for cleaned data file save location\n",
      "Printing save location:\n",
      "C:/Users/chris/Documents/School/Masters/zz_GIT/2022-msaai-500-final-project/data/sanitized/sanitized_1.txt\n",
      "C:/Users/chris/Documents/School/Masters/zz_GIT/2022-msaai-500-final-project/data/sanitized/sanitized_1_final.csv\n"
     ]
    }
   ],
   "source": [
    "dfix.init()\n",
    "data = dfix.scrub_txt_file()"
   ]
  },
  {
   "cell_type": "code",
   "execution_count": 3,
   "id": "abd5ec27-8f6d-4659-84e2-d9575066b9c6",
   "metadata": {},
   "outputs": [
    {
     "data": {
      "text/html": [
       "<div>\n",
       "<style scoped>\n",
       "    .dataframe tbody tr th:only-of-type {\n",
       "        vertical-align: middle;\n",
       "    }\n",
       "\n",
       "    .dataframe tbody tr th {\n",
       "        vertical-align: top;\n",
       "    }\n",
       "\n",
       "    .dataframe thead th {\n",
       "        text-align: right;\n",
       "    }\n",
       "</style>\n",
       "<table border=\"1\" class=\"dataframe\">\n",
       "  <thead>\n",
       "    <tr style=\"text-align: right;\">\n",
       "      <th></th>\n",
       "      <th>ID</th>\n",
       "      <th>Price</th>\n",
       "      <th>Levy</th>\n",
       "      <th>Manufacturer</th>\n",
       "      <th>Model</th>\n",
       "      <th>Prod_year</th>\n",
       "      <th>Category</th>\n",
       "      <th>Leather_interior</th>\n",
       "      <th>Fuel_type</th>\n",
       "      <th>Engine_volume</th>\n",
       "      <th>Turbo</th>\n",
       "      <th>Mileage</th>\n",
       "      <th>Cylinders</th>\n",
       "      <th>Gear_box_type</th>\n",
       "      <th>Drive_wheels</th>\n",
       "      <th>Doors</th>\n",
       "      <th>Wheel</th>\n",
       "      <th>Color</th>\n",
       "      <th>Airbags</th>\n",
       "    </tr>\n",
       "  </thead>\n",
       "  <tbody>\n",
       "    <tr>\n",
       "      <th>0</th>\n",
       "      <td>45654403</td>\n",
       "      <td>13328</td>\n",
       "      <td>1399</td>\n",
       "      <td>LEXUS</td>\n",
       "      <td>RX 450</td>\n",
       "      <td>2010</td>\n",
       "      <td>Jeep</td>\n",
       "      <td>Yes</td>\n",
       "      <td>Hybrid</td>\n",
       "      <td>3.5</td>\n",
       "      <td></td>\n",
       "      <td>186005 km</td>\n",
       "      <td>6</td>\n",
       "      <td>Automatic</td>\n",
       "      <td>Front-Rear</td>\n",
       "      <td>4-5</td>\n",
       "      <td>Left wheel</td>\n",
       "      <td>Silver</td>\n",
       "      <td>12</td>\n",
       "    </tr>\n",
       "    <tr>\n",
       "      <th>1</th>\n",
       "      <td>44731507</td>\n",
       "      <td>16621</td>\n",
       "      <td>1018</td>\n",
       "      <td>CHEVROLET</td>\n",
       "      <td>EQUINOX</td>\n",
       "      <td>2011</td>\n",
       "      <td>Jeep</td>\n",
       "      <td>No</td>\n",
       "      <td>Petrol</td>\n",
       "      <td>3</td>\n",
       "      <td></td>\n",
       "      <td>192000 km</td>\n",
       "      <td>6</td>\n",
       "      <td>Tiptronic</td>\n",
       "      <td>Front-Rear</td>\n",
       "      <td>4-5</td>\n",
       "      <td>Left wheel</td>\n",
       "      <td>Black</td>\n",
       "      <td>8</td>\n",
       "    </tr>\n",
       "    <tr>\n",
       "      <th>2</th>\n",
       "      <td>45774419</td>\n",
       "      <td>8467</td>\n",
       "      <td>0</td>\n",
       "      <td>HONDA</td>\n",
       "      <td>FIT</td>\n",
       "      <td>2006</td>\n",
       "      <td>Hatchback</td>\n",
       "      <td>No</td>\n",
       "      <td>Petrol</td>\n",
       "      <td>1.3</td>\n",
       "      <td></td>\n",
       "      <td>200000 km</td>\n",
       "      <td>4</td>\n",
       "      <td>Variator</td>\n",
       "      <td>Front</td>\n",
       "      <td>4-5</td>\n",
       "      <td>Right-hand drive</td>\n",
       "      <td>Black</td>\n",
       "      <td>2</td>\n",
       "    </tr>\n",
       "    <tr>\n",
       "      <th>3</th>\n",
       "      <td>45769185</td>\n",
       "      <td>3607</td>\n",
       "      <td>862</td>\n",
       "      <td>FORD</td>\n",
       "      <td>ESCAPE</td>\n",
       "      <td>2011</td>\n",
       "      <td>Jeep</td>\n",
       "      <td>Yes</td>\n",
       "      <td>Hybrid</td>\n",
       "      <td>2.5</td>\n",
       "      <td></td>\n",
       "      <td>168966 km</td>\n",
       "      <td>4</td>\n",
       "      <td>Automatic</td>\n",
       "      <td>Front-Rear</td>\n",
       "      <td>4-5</td>\n",
       "      <td>Left wheel</td>\n",
       "      <td>White</td>\n",
       "      <td>0</td>\n",
       "    </tr>\n",
       "    <tr>\n",
       "      <th>4</th>\n",
       "      <td>45809263</td>\n",
       "      <td>11726</td>\n",
       "      <td>446</td>\n",
       "      <td>HONDA</td>\n",
       "      <td>FIT</td>\n",
       "      <td>2014</td>\n",
       "      <td>Hatchback</td>\n",
       "      <td>Yes</td>\n",
       "      <td>Petrol</td>\n",
       "      <td>1.3</td>\n",
       "      <td></td>\n",
       "      <td>91901 km</td>\n",
       "      <td>4</td>\n",
       "      <td>Automatic</td>\n",
       "      <td>Front</td>\n",
       "      <td>4-5</td>\n",
       "      <td>Left wheel</td>\n",
       "      <td>Silver</td>\n",
       "      <td>4</td>\n",
       "    </tr>\n",
       "    <tr>\n",
       "      <th>...</th>\n",
       "      <td>...</td>\n",
       "      <td>...</td>\n",
       "      <td>...</td>\n",
       "      <td>...</td>\n",
       "      <td>...</td>\n",
       "      <td>...</td>\n",
       "      <td>...</td>\n",
       "      <td>...</td>\n",
       "      <td>...</td>\n",
       "      <td>...</td>\n",
       "      <td>...</td>\n",
       "      <td>...</td>\n",
       "      <td>...</td>\n",
       "      <td>...</td>\n",
       "      <td>...</td>\n",
       "      <td>...</td>\n",
       "      <td>...</td>\n",
       "      <td>...</td>\n",
       "      <td>...</td>\n",
       "    </tr>\n",
       "    <tr>\n",
       "      <th>19232</th>\n",
       "      <td>45798355</td>\n",
       "      <td>8467</td>\n",
       "      <td>0</td>\n",
       "      <td>MERCEDES-BENZ</td>\n",
       "      <td>CLK 200</td>\n",
       "      <td>1999</td>\n",
       "      <td>Coupe</td>\n",
       "      <td>Yes</td>\n",
       "      <td>CNG</td>\n",
       "      <td>2.0 Turbo</td>\n",
       "      <td></td>\n",
       "      <td>300000 km</td>\n",
       "      <td>4</td>\n",
       "      <td>Manual</td>\n",
       "      <td>Rear</td>\n",
       "      <td>2-3</td>\n",
       "      <td>Left wheel</td>\n",
       "      <td>Silver</td>\n",
       "      <td>5</td>\n",
       "    </tr>\n",
       "    <tr>\n",
       "      <th>19233</th>\n",
       "      <td>45778856</td>\n",
       "      <td>15681</td>\n",
       "      <td>831</td>\n",
       "      <td>HYUNDAI</td>\n",
       "      <td>SONATA</td>\n",
       "      <td>2011</td>\n",
       "      <td>Sedan</td>\n",
       "      <td>Yes</td>\n",
       "      <td>Petrol</td>\n",
       "      <td>2.4</td>\n",
       "      <td></td>\n",
       "      <td>161600 km</td>\n",
       "      <td>4</td>\n",
       "      <td>Tiptronic</td>\n",
       "      <td>Front</td>\n",
       "      <td>4-5</td>\n",
       "      <td>Left wheel</td>\n",
       "      <td>Red</td>\n",
       "      <td>8</td>\n",
       "    </tr>\n",
       "    <tr>\n",
       "      <th>19234</th>\n",
       "      <td>45804997</td>\n",
       "      <td>26108</td>\n",
       "      <td>836</td>\n",
       "      <td>HYUNDAI</td>\n",
       "      <td>TUCSON</td>\n",
       "      <td>2010</td>\n",
       "      <td>Jeep</td>\n",
       "      <td>Yes</td>\n",
       "      <td>Diesel</td>\n",
       "      <td>2</td>\n",
       "      <td></td>\n",
       "      <td>116365 km</td>\n",
       "      <td>4</td>\n",
       "      <td>Automatic</td>\n",
       "      <td>Front</td>\n",
       "      <td>4-5</td>\n",
       "      <td>Left wheel</td>\n",
       "      <td>Grey</td>\n",
       "      <td>4</td>\n",
       "    </tr>\n",
       "    <tr>\n",
       "      <th>19235</th>\n",
       "      <td>45793526</td>\n",
       "      <td>5331</td>\n",
       "      <td>1288</td>\n",
       "      <td>CHEVROLET</td>\n",
       "      <td>CAPTIVA</td>\n",
       "      <td>2007</td>\n",
       "      <td>Jeep</td>\n",
       "      <td>Yes</td>\n",
       "      <td>Diesel</td>\n",
       "      <td>2</td>\n",
       "      <td></td>\n",
       "      <td>51258 km</td>\n",
       "      <td>4</td>\n",
       "      <td>Automatic</td>\n",
       "      <td>Front</td>\n",
       "      <td>4-5</td>\n",
       "      <td>Left wheel</td>\n",
       "      <td>Black</td>\n",
       "      <td>4</td>\n",
       "    </tr>\n",
       "    <tr>\n",
       "      <th>19236</th>\n",
       "      <td>45813273</td>\n",
       "      <td>470</td>\n",
       "      <td>753</td>\n",
       "      <td>HYUNDAI</td>\n",
       "      <td>SONATA</td>\n",
       "      <td>2012</td>\n",
       "      <td>Sedan</td>\n",
       "      <td>Yes</td>\n",
       "      <td>Hybrid</td>\n",
       "      <td>2.4</td>\n",
       "      <td></td>\n",
       "      <td>186923 km</td>\n",
       "      <td>4</td>\n",
       "      <td>Automatic</td>\n",
       "      <td>Front</td>\n",
       "      <td>4-5</td>\n",
       "      <td>Left wheel</td>\n",
       "      <td>White</td>\n",
       "      <td>12</td>\n",
       "    </tr>\n",
       "  </tbody>\n",
       "</table>\n",
       "<p>19237 rows × 19 columns</p>\n",
       "</div>"
      ],
      "text/plain": [
       "             ID  Price  Levy   Manufacturer    Model Prod_year   Category  \\\n",
       "0      45654403  13328  1399          LEXUS   RX 450      2010       Jeep   \n",
       "1      44731507  16621  1018      CHEVROLET  EQUINOX      2011       Jeep   \n",
       "2      45774419   8467     0          HONDA      FIT      2006  Hatchback   \n",
       "3      45769185   3607   862           FORD   ESCAPE      2011       Jeep   \n",
       "4      45809263  11726   446          HONDA      FIT      2014  Hatchback   \n",
       "...         ...    ...   ...            ...      ...       ...        ...   \n",
       "19232  45798355   8467     0  MERCEDES-BENZ  CLK 200      1999      Coupe   \n",
       "19233  45778856  15681   831        HYUNDAI   SONATA      2011      Sedan   \n",
       "19234  45804997  26108   836        HYUNDAI   TUCSON      2010       Jeep   \n",
       "19235  45793526   5331  1288      CHEVROLET  CAPTIVA      2007       Jeep   \n",
       "19236  45813273    470   753        HYUNDAI   SONATA      2012      Sedan   \n",
       "\n",
       "      Leather_interior Fuel_type Engine_volume Turbo    Mileage Cylinders  \\\n",
       "0                  Yes    Hybrid           3.5        186005 km         6   \n",
       "1                   No    Petrol             3        192000 km         6   \n",
       "2                   No    Petrol           1.3        200000 km         4   \n",
       "3                  Yes    Hybrid           2.5        168966 km         4   \n",
       "4                  Yes    Petrol           1.3         91901 km         4   \n",
       "...                ...       ...           ...   ...        ...       ...   \n",
       "19232              Yes       CNG     2.0 Turbo        300000 km         4   \n",
       "19233              Yes    Petrol           2.4        161600 km         4   \n",
       "19234              Yes    Diesel             2        116365 km         4   \n",
       "19235              Yes    Diesel             2         51258 km         4   \n",
       "19236              Yes    Hybrid           2.4        186923 km         4   \n",
       "\n",
       "      Gear_box_type Drive_wheels Doors             Wheel   Color Airbags  \n",
       "0         Automatic   Front-Rear   4-5        Left wheel  Silver      12  \n",
       "1         Tiptronic   Front-Rear   4-5        Left wheel   Black       8  \n",
       "2          Variator        Front   4-5  Right-hand drive   Black       2  \n",
       "3         Automatic   Front-Rear   4-5        Left wheel   White       0  \n",
       "4         Automatic        Front   4-5        Left wheel  Silver       4  \n",
       "...             ...          ...   ...               ...     ...     ...  \n",
       "19232        Manual         Rear   2-3        Left wheel  Silver       5  \n",
       "19233     Tiptronic        Front   4-5        Left wheel     Red       8  \n",
       "19234     Automatic        Front   4-5        Left wheel    Grey       4  \n",
       "19235     Automatic        Front   4-5        Left wheel   Black       4  \n",
       "19236     Automatic        Front   4-5        Left wheel   White      12  \n",
       "\n",
       "[19237 rows x 19 columns]"
      ]
     },
     "execution_count": 3,
     "metadata": {},
     "output_type": "execute_result"
    }
   ],
   "source": [
    "data"
   ]
  },
  {
   "cell_type": "code",
   "execution_count": 4,
   "id": "6413d380-387a-48c8-b9d4-5461bb357e9c",
   "metadata": {},
   "outputs": [
    {
     "name": "stdout",
     "output_type": "stream",
     "text": [
      "['Automatic' 'Tiptronic' 'Variator' 'Manual']\n",
      "['6' '4' '8' '1' '12' '3' '2' '16' '5' '7' '9' '10' '14']\n",
      "['ACURA' 'ALFA ROMEO' 'ASTON MARTIN' 'AUDI' 'BENTLEY' 'BMW' 'BUICK'\n",
      " 'CADILLAC' 'CHEVROLET' 'CHRYSLER' 'CITROEN' 'DAEWOO' 'DAIHATSU' 'DODGE'\n",
      " 'FERRARI' 'FIAT' 'FORD' 'GAZ' 'GMC' 'GONOW' 'GREATWALL' 'HAVAL' 'HONDA'\n",
      " 'HUMMER' 'HYUNDAI' 'INFINITI' 'ISUZU' 'IVECO DAYLY' 'JAGUAR' 'JEEP' 'KIA'\n",
      " 'LAMBORGHINI' 'LANCIA' 'LAND ROVER' 'LEXUS' 'LINCOLN' 'MASERATI' 'MAZDA'\n",
      " 'MERCEDES-BENZ' 'MERCURY' 'MINI' 'MITSUBISHI' 'MOSKVICH' 'NISSAN' 'OPEL'\n",
      " 'PEUGEOT' 'PONTIAC' 'PORSCHE' 'RENAULT' 'ROLLS-ROYCE' 'ROVER' 'SAAB'\n",
      " 'SATURN' 'SCION' 'SEAT' 'SKODA' 'SSANGYONG' 'SUBARU' 'SUZUKI' 'TESLA'\n",
      " 'TOYOTA' 'UAZ' 'VAZ' 'VOLKSWAGEN' 'VOLVO' 'ZAZ']\n",
      "1481\n"
     ]
    }
   ],
   "source": [
    "print(data.Gear_box_type.unique())\n",
    "print(data.Cylinders.unique())\n",
    "manu = data.Manufacturer.unique()\n",
    "manu.sort()\n",
    "print(manu)\n",
    "mode = data.Model.unique()\n",
    "mode.sort()\n",
    "print(len(mode))"
   ]
  },
  {
   "cell_type": "markdown",
   "id": "8a819f7b-d4b8-47fb-80e1-01ffca1a3584",
   "metadata": {},
   "source": [
    "1589"
   ]
  },
  {
   "cell_type": "code",
   "execution_count": 5,
   "id": "45d0a47e-68bf-4b2c-9199-2699246e88cb",
   "metadata": {},
   "outputs": [
    {
     "data": {
      "text/plain": [
       "'Unique identifier/key'"
      ]
     },
     "execution_count": 5,
     "metadata": {},
     "output_type": "execute_result"
    }
   ],
   "source": [
    "data_dict= {\"ID\": \"Unique identifier/key\", \"Price\": \"Price of the car\", \"Levy\": \"Tax applied to purchase price\", \n",
    "            \"Manufacturer\": \"Name of car manufacturer\", \"Model\": \"Model of the car\", \n",
    "            \"Prod_year\": \"Year the car was produced\", \"Category\": \"Category by body type of the car\", \n",
    "            \"Leather_interior\": \"Whether or not the car has a leather interior\", \"Fuel_type\": \"Fuel type of the car\", \n",
    "            \"Engine_volume\": \"Engine size/volume of the car\", \"Mileage\": \"Total mileage on the car\", \n",
    "            \"Cylinders\": \"Number of cylinders\", \"Gear_box_type\": \"Type of gear box\", \"Drive_wheels\": \n",
    "            \"Drive wheels on the car\", \"Doors\": \"Number of doors on the car\", \"Wheel\": \"Side of the steering wheel\", \n",
    "            \"Color\": \"Exterior color of the car\", \"Airbags\": \"Number of airbags in the car\"}\n",
    "\n",
    "data_dict[\"ID\"]"
   ]
  },
  {
   "cell_type": "code",
   "execution_count": 7,
   "id": "59ab0496-6a1c-4e27-9bf8-2cc2a63797f9",
   "metadata": {},
   "outputs": [
    {
     "name": "stdout",
     "output_type": "stream",
     "text": [
      "Asking for dictionary save file path\n"
     ]
    },
    {
     "data": {
      "text/plain": [
       "'C:/Users/chris/Documents/School/Masters/zz_GIT/2022-msaai-500-final-project/data/data_dictionary.json'"
      ]
     },
     "execution_count": 7,
     "metadata": {},
     "output_type": "execute_result"
    }
   ],
   "source": [
    "file_name = \"..\\data\\data_dictionary.txt\"\n",
    "du.save_py_dict(data_dict)"
   ]
  },
  {
   "cell_type": "code",
   "execution_count": 8,
   "id": "48d3a07f-e3da-459d-b06f-504f241a78e2",
   "metadata": {},
   "outputs": [
    {
     "name": "stdout",
     "output_type": "stream",
     "text": [
      "Asking for dictionary data file path\n"
     ]
    }
   ],
   "source": [
    "data_d = du.load_py_dict()"
   ]
  },
  {
   "cell_type": "code",
   "execution_count": 9,
   "id": "8be13a05-71c7-4aab-b2e2-0438b6685549",
   "metadata": {},
   "outputs": [
    {
     "data": {
      "text/plain": [
       "{'ID': 'Unique identifier/key',\n",
       " 'Price': 'Price of the car',\n",
       " 'Levy': 'Tax applied to purchase price',\n",
       " 'Manufacturer': 'Name of car manufacturer',\n",
       " 'Model': 'Model of the car',\n",
       " 'Prod_year': 'Year the car was produced',\n",
       " 'Category': 'Category by body type of the car',\n",
       " 'Leather_interior': 'Whether or not the car has a leather interior',\n",
       " 'Fuel_type': 'Fuel type of the car',\n",
       " 'Engine_volume': 'Engine size/volume of the car',\n",
       " 'Mileage': 'Total mileage on the car',\n",
       " 'Cylinders': 'Number of cylinders',\n",
       " 'Gear_box_type': 'Type of gear box',\n",
       " 'Drive_wheels': 'Drive wheels on the car',\n",
       " 'Doors': 'Number of doors on the car',\n",
       " 'Wheel': 'Side of the steering wheel',\n",
       " 'Color': 'Exterior color of the car',\n",
       " 'Airbags': 'Number of airbags in the car'}"
      ]
     },
     "execution_count": 9,
     "metadata": {},
     "output_type": "execute_result"
    }
   ],
   "source": [
    "data_d"
   ]
  },
  {
   "cell_type": "code",
   "execution_count": 11,
   "id": "a2dc8e1c-719b-49c2-87df-b4c6a7624937",
   "metadata": {},
   "outputs": [
    {
     "data": {
      "text/plain": [
       "{'0': 'Automatic', '1': 'Manual', '2': 'Tiptronic', '3': 'Variator'}"
      ]
     },
     "execution_count": 11,
     "metadata": {},
     "output_type": "execute_result"
    }
   ],
   "source": [
    "gb = data.Gear_box_type.unique()\n",
    "gb.sort()\n",
    "du.create_enum_dict(gb)\n"
   ]
  },
  {
   "cell_type": "code",
   "execution_count": null,
   "id": "4906627e-b59a-4247-9ef5-15d8fae3c08a",
   "metadata": {},
   "outputs": [],
   "source": []
  }
 ],
 "metadata": {
  "kernelspec": {
   "display_name": "Python 3 (ipykernel)",
   "language": "python",
   "name": "python3"
  },
  "language_info": {
   "codemirror_mode": {
    "name": "ipython",
    "version": 3
   },
   "file_extension": ".py",
   "mimetype": "text/x-python",
   "name": "python",
   "nbconvert_exporter": "python",
   "pygments_lexer": "ipython3",
   "version": "3.9.12"
  }
 },
 "nbformat": 4,
 "nbformat_minor": 5
}
