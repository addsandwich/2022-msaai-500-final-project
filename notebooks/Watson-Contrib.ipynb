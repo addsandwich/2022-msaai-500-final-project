{
 "cells": [
  {
   "cell_type": "markdown",
   "id": "7a550b41-da06-46cd-aafb-333b57330e5b",
   "metadata": {},
   "source": [
    "import csv\n",
    "\n",
    "thing=[]\n",
    "\n",
    "def id_col_preprocess(value):\n",
    "    #remove special characters\n",
    "    #ensure is a number\n",
    "    \n",
    "def price_col_preprocess(value):\n",
    "    #thing happen\n",
    "\n",
    "def set_turbo(value):\n",
    "    #set value in blank column\n",
    "\n",
    "#array[1][2][3][4][5][6][1][2][3][4][5][6][1][2][3][4][5][6]\n",
    "ourdata = thefilesomehow\n",
    "\n",
    "for col in range(number of columns):\n",
    "    for rec in col:\n",
    "        #call method to process that column\n",
    "        \n",
    "\n",
    "\n"
   ]
  },
  {
   "cell_type": "code",
   "execution_count": null,
   "id": "abd5ec27-8f6d-4659-84e2-d9575066b9c6",
   "metadata": {},
   "outputs": [],
   "source": []
  }
 ],
 "metadata": {
  "kernelspec": {
   "display_name": "Python 3 (ipykernel)",
   "language": "python",
   "name": "python3"
  },
  "language_info": {
   "codemirror_mode": {
    "name": "ipython",
    "version": 3
   },
   "file_extension": ".py",
   "mimetype": "text/x-python",
   "name": "python",
   "nbconvert_exporter": "python",
   "pygments_lexer": "ipython3",
   "version": "3.9.12"
  }
 },
 "nbformat": 4,
 "nbformat_minor": 5
}
