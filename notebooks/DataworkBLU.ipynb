{
 "cells": [
  {
   "cell_type": "markdown",
   "id": "50b15bf8-70b8-4479-a70e-4b7a870aca89",
   "metadata": {},
   "source": [
    "### MS AAI 500 Final Project Week 5 Data Processing"
   ]
  },
  {
   "cell_type": "code",
   "execution_count": 1,
   "id": "08f57394-beff-4995-82b2-2714278a2b42",
   "metadata": {},
   "outputs": [
    {
     "name": "stdout",
     "output_type": "stream",
     "text": [
      "Replacing all special characters for clean read\n",
      "Asking for cleaned data file save location\n",
      "Printing save location:\n",
      "/Users/Arcpolar/Documents/GitHub/2022-msaai-500-final-project/data/blutest1.txt\n",
      "/Users/Arcpolar/Documents/GitHub/2022-msaai-500-final-project/data/blutest1_final.csv\n"
     ]
    }
   ],
   "source": [
    "import data_fix as dfix\n",
    "import data_utils_g1 as du\n",
    "import matplotlib.pyplot as plt\n",
    "dfix.init()\n",
    "data = dfix.scrub_txt_file()"
   ]
  },
  {
   "cell_type": "code",
   "execution_count": 2,
   "id": "3fcaca34-7050-4f8c-be7f-1118184f606f",
   "metadata": {},
   "outputs": [
    {
     "data": {
      "text/html": [
       "<div>\n",
       "<style scoped>\n",
       "    .dataframe tbody tr th:only-of-type {\n",
       "        vertical-align: middle;\n",
       "    }\n",
       "\n",
       "    .dataframe tbody tr th {\n",
       "        vertical-align: top;\n",
       "    }\n",
       "\n",
       "    .dataframe thead th {\n",
       "        text-align: right;\n",
       "    }\n",
       "</style>\n",
       "<table border=\"1\" class=\"dataframe\">\n",
       "  <thead>\n",
       "    <tr style=\"text-align: right;\">\n",
       "      <th></th>\n",
       "      <th>ID</th>\n",
       "      <th>Price</th>\n",
       "      <th>Levy</th>\n",
       "      <th>Manufacturer</th>\n",
       "      <th>Model</th>\n",
       "      <th>Prod_year</th>\n",
       "      <th>Category</th>\n",
       "      <th>Leather_interior</th>\n",
       "      <th>Fuel_type</th>\n",
       "      <th>Engine_volume</th>\n",
       "      <th>Turbo</th>\n",
       "      <th>Mileage</th>\n",
       "      <th>Cylinders</th>\n",
       "      <th>Gear_box_type</th>\n",
       "      <th>Drive_wheels</th>\n",
       "      <th>Doors</th>\n",
       "      <th>Wheel</th>\n",
       "      <th>Color</th>\n",
       "      <th>Airbags</th>\n",
       "    </tr>\n",
       "  </thead>\n",
       "  <tbody>\n",
       "    <tr>\n",
       "      <th>0</th>\n",
       "      <td>45654403</td>\n",
       "      <td>13328</td>\n",
       "      <td>1399</td>\n",
       "      <td>LEXUS</td>\n",
       "      <td>RX 450</td>\n",
       "      <td>2010</td>\n",
       "      <td>Jeep</td>\n",
       "      <td>Yes</td>\n",
       "      <td>Hybrid</td>\n",
       "      <td>3.5</td>\n",
       "      <td></td>\n",
       "      <td>186005</td>\n",
       "      <td>6</td>\n",
       "      <td>Automatic</td>\n",
       "      <td>Front-Rear</td>\n",
       "      <td>4-5</td>\n",
       "      <td>Left wheel</td>\n",
       "      <td>Silver</td>\n",
       "      <td>12</td>\n",
       "    </tr>\n",
       "    <tr>\n",
       "      <th>1</th>\n",
       "      <td>44731507</td>\n",
       "      <td>16621</td>\n",
       "      <td>1018</td>\n",
       "      <td>CHEVROLET</td>\n",
       "      <td>EQUINOX</td>\n",
       "      <td>2011</td>\n",
       "      <td>Jeep</td>\n",
       "      <td>No</td>\n",
       "      <td>Petrol</td>\n",
       "      <td>3</td>\n",
       "      <td></td>\n",
       "      <td>192000</td>\n",
       "      <td>6</td>\n",
       "      <td>Tiptronic</td>\n",
       "      <td>Front-Rear</td>\n",
       "      <td>4-5</td>\n",
       "      <td>Left wheel</td>\n",
       "      <td>Black</td>\n",
       "      <td>8</td>\n",
       "    </tr>\n",
       "    <tr>\n",
       "      <th>2</th>\n",
       "      <td>45774419</td>\n",
       "      <td>8467</td>\n",
       "      <td>0</td>\n",
       "      <td>HONDA</td>\n",
       "      <td>FIT</td>\n",
       "      <td>2006</td>\n",
       "      <td>Hatchback</td>\n",
       "      <td>No</td>\n",
       "      <td>Petrol</td>\n",
       "      <td>1.3</td>\n",
       "      <td></td>\n",
       "      <td>200000</td>\n",
       "      <td>4</td>\n",
       "      <td>Variator</td>\n",
       "      <td>Front</td>\n",
       "      <td>4-5</td>\n",
       "      <td>Right-hand drive</td>\n",
       "      <td>Black</td>\n",
       "      <td>2</td>\n",
       "    </tr>\n",
       "    <tr>\n",
       "      <th>3</th>\n",
       "      <td>45769185</td>\n",
       "      <td>3607</td>\n",
       "      <td>862</td>\n",
       "      <td>FORD</td>\n",
       "      <td>ESCAPE</td>\n",
       "      <td>2011</td>\n",
       "      <td>Jeep</td>\n",
       "      <td>Yes</td>\n",
       "      <td>Hybrid</td>\n",
       "      <td>2.5</td>\n",
       "      <td></td>\n",
       "      <td>168966</td>\n",
       "      <td>4</td>\n",
       "      <td>Automatic</td>\n",
       "      <td>Front-Rear</td>\n",
       "      <td>4-5</td>\n",
       "      <td>Left wheel</td>\n",
       "      <td>White</td>\n",
       "      <td>0</td>\n",
       "    </tr>\n",
       "    <tr>\n",
       "      <th>4</th>\n",
       "      <td>45809263</td>\n",
       "      <td>11726</td>\n",
       "      <td>446</td>\n",
       "      <td>HONDA</td>\n",
       "      <td>FIT</td>\n",
       "      <td>2014</td>\n",
       "      <td>Hatchback</td>\n",
       "      <td>Yes</td>\n",
       "      <td>Petrol</td>\n",
       "      <td>1.3</td>\n",
       "      <td></td>\n",
       "      <td>91901</td>\n",
       "      <td>4</td>\n",
       "      <td>Automatic</td>\n",
       "      <td>Front</td>\n",
       "      <td>4-5</td>\n",
       "      <td>Left wheel</td>\n",
       "      <td>Silver</td>\n",
       "      <td>4</td>\n",
       "    </tr>\n",
       "    <tr>\n",
       "      <th>...</th>\n",
       "      <td>...</td>\n",
       "      <td>...</td>\n",
       "      <td>...</td>\n",
       "      <td>...</td>\n",
       "      <td>...</td>\n",
       "      <td>...</td>\n",
       "      <td>...</td>\n",
       "      <td>...</td>\n",
       "      <td>...</td>\n",
       "      <td>...</td>\n",
       "      <td>...</td>\n",
       "      <td>...</td>\n",
       "      <td>...</td>\n",
       "      <td>...</td>\n",
       "      <td>...</td>\n",
       "      <td>...</td>\n",
       "      <td>...</td>\n",
       "      <td>...</td>\n",
       "      <td>...</td>\n",
       "    </tr>\n",
       "    <tr>\n",
       "      <th>19232</th>\n",
       "      <td>45798355</td>\n",
       "      <td>8467</td>\n",
       "      <td>0</td>\n",
       "      <td>MERCEDES-BENZ</td>\n",
       "      <td>CLK 200</td>\n",
       "      <td>1999</td>\n",
       "      <td>Coupe</td>\n",
       "      <td>Yes</td>\n",
       "      <td>CNG</td>\n",
       "      <td>2.0</td>\n",
       "      <td>Turbo</td>\n",
       "      <td>300000</td>\n",
       "      <td>4</td>\n",
       "      <td>Manual</td>\n",
       "      <td>Rear</td>\n",
       "      <td>2-3</td>\n",
       "      <td>Left wheel</td>\n",
       "      <td>Silver</td>\n",
       "      <td>5</td>\n",
       "    </tr>\n",
       "    <tr>\n",
       "      <th>19233</th>\n",
       "      <td>45778856</td>\n",
       "      <td>15681</td>\n",
       "      <td>831</td>\n",
       "      <td>HYUNDAI</td>\n",
       "      <td>SONATA</td>\n",
       "      <td>2011</td>\n",
       "      <td>Sedan</td>\n",
       "      <td>Yes</td>\n",
       "      <td>Petrol</td>\n",
       "      <td>2.4</td>\n",
       "      <td></td>\n",
       "      <td>161600</td>\n",
       "      <td>4</td>\n",
       "      <td>Tiptronic</td>\n",
       "      <td>Front</td>\n",
       "      <td>4-5</td>\n",
       "      <td>Left wheel</td>\n",
       "      <td>Red</td>\n",
       "      <td>8</td>\n",
       "    </tr>\n",
       "    <tr>\n",
       "      <th>19234</th>\n",
       "      <td>45804997</td>\n",
       "      <td>26108</td>\n",
       "      <td>836</td>\n",
       "      <td>HYUNDAI</td>\n",
       "      <td>TUCSON</td>\n",
       "      <td>2010</td>\n",
       "      <td>Jeep</td>\n",
       "      <td>Yes</td>\n",
       "      <td>Diesel</td>\n",
       "      <td>2</td>\n",
       "      <td></td>\n",
       "      <td>116365</td>\n",
       "      <td>4</td>\n",
       "      <td>Automatic</td>\n",
       "      <td>Front</td>\n",
       "      <td>4-5</td>\n",
       "      <td>Left wheel</td>\n",
       "      <td>Grey</td>\n",
       "      <td>4</td>\n",
       "    </tr>\n",
       "    <tr>\n",
       "      <th>19235</th>\n",
       "      <td>45793526</td>\n",
       "      <td>5331</td>\n",
       "      <td>1288</td>\n",
       "      <td>CHEVROLET</td>\n",
       "      <td>CAPTIVA</td>\n",
       "      <td>2007</td>\n",
       "      <td>Jeep</td>\n",
       "      <td>Yes</td>\n",
       "      <td>Diesel</td>\n",
       "      <td>2</td>\n",
       "      <td></td>\n",
       "      <td>51258</td>\n",
       "      <td>4</td>\n",
       "      <td>Automatic</td>\n",
       "      <td>Front</td>\n",
       "      <td>4-5</td>\n",
       "      <td>Left wheel</td>\n",
       "      <td>Black</td>\n",
       "      <td>4</td>\n",
       "    </tr>\n",
       "    <tr>\n",
       "      <th>19236</th>\n",
       "      <td>45813273</td>\n",
       "      <td>470</td>\n",
       "      <td>753</td>\n",
       "      <td>HYUNDAI</td>\n",
       "      <td>SONATA</td>\n",
       "      <td>2012</td>\n",
       "      <td>Sedan</td>\n",
       "      <td>Yes</td>\n",
       "      <td>Hybrid</td>\n",
       "      <td>2.4</td>\n",
       "      <td></td>\n",
       "      <td>186923</td>\n",
       "      <td>4</td>\n",
       "      <td>Automatic</td>\n",
       "      <td>Front</td>\n",
       "      <td>4-5</td>\n",
       "      <td>Left wheel</td>\n",
       "      <td>White</td>\n",
       "      <td>12</td>\n",
       "    </tr>\n",
       "  </tbody>\n",
       "</table>\n",
       "<p>19237 rows × 19 columns</p>\n",
       "</div>"
      ],
      "text/plain": [
       "             ID  Price  Levy   Manufacturer    Model Prod_year   Category  \\\n",
       "0      45654403  13328  1399          LEXUS   RX 450      2010       Jeep   \n",
       "1      44731507  16621  1018      CHEVROLET  EQUINOX      2011       Jeep   \n",
       "2      45774419   8467     0          HONDA      FIT      2006  Hatchback   \n",
       "3      45769185   3607   862           FORD   ESCAPE      2011       Jeep   \n",
       "4      45809263  11726   446          HONDA      FIT      2014  Hatchback   \n",
       "...         ...    ...   ...            ...      ...       ...        ...   \n",
       "19232  45798355   8467     0  MERCEDES-BENZ  CLK 200      1999      Coupe   \n",
       "19233  45778856  15681   831        HYUNDAI   SONATA      2011      Sedan   \n",
       "19234  45804997  26108   836        HYUNDAI   TUCSON      2010       Jeep   \n",
       "19235  45793526   5331  1288      CHEVROLET  CAPTIVA      2007       Jeep   \n",
       "19236  45813273    470   753        HYUNDAI   SONATA      2012      Sedan   \n",
       "\n",
       "      Leather_interior Fuel_type Engine_volume  Turbo Mileage Cylinders  \\\n",
       "0                  Yes    Hybrid           3.5         186005         6   \n",
       "1                   No    Petrol             3         192000         6   \n",
       "2                   No    Petrol           1.3         200000         4   \n",
       "3                  Yes    Hybrid           2.5         168966         4   \n",
       "4                  Yes    Petrol           1.3          91901         4   \n",
       "...                ...       ...           ...    ...     ...       ...   \n",
       "19232              Yes       CNG           2.0  Turbo  300000         4   \n",
       "19233              Yes    Petrol           2.4         161600         4   \n",
       "19234              Yes    Diesel             2         116365         4   \n",
       "19235              Yes    Diesel             2          51258         4   \n",
       "19236              Yes    Hybrid           2.4         186923         4   \n",
       "\n",
       "      Gear_box_type Drive_wheels Doors             Wheel   Color Airbags  \n",
       "0         Automatic   Front-Rear   4-5        Left wheel  Silver      12  \n",
       "1         Tiptronic   Front-Rear   4-5        Left wheel   Black       8  \n",
       "2          Variator        Front   4-5  Right-hand drive   Black       2  \n",
       "3         Automatic   Front-Rear   4-5        Left wheel   White       0  \n",
       "4         Automatic        Front   4-5        Left wheel  Silver       4  \n",
       "...             ...          ...   ...               ...     ...     ...  \n",
       "19232        Manual         Rear   2-3        Left wheel  Silver       5  \n",
       "19233     Tiptronic        Front   4-5        Left wheel     Red       8  \n",
       "19234     Automatic        Front   4-5        Left wheel    Grey       4  \n",
       "19235     Automatic        Front   4-5        Left wheel   Black       4  \n",
       "19236     Automatic        Front   4-5        Left wheel   White      12  \n",
       "\n",
       "[19237 rows x 19 columns]"
      ]
     },
     "execution_count": 2,
     "metadata": {},
     "output_type": "execute_result"
    }
   ],
   "source": [
    "data"
   ]
  },
  {
   "cell_type": "code",
   "execution_count": 3,
   "id": "1f526106-caed-4b6e-b7b3-6817647877e0",
   "metadata": {},
   "outputs": [
    {
     "name": "stdout",
     "output_type": "stream",
     "text": [
      "['Jeep' 'Hatchback' 'Sedan' 'Microbus' 'Goods wagon' 'Universal' 'Coupe'\n",
      " 'Minivan' 'Cabriolet' 'Limousine' 'Pickup']\n"
     ]
    }
   ],
   "source": [
    "print(data.Category.unique())"
   ]
  },
  {
   "cell_type": "code",
   "execution_count": 135,
   "id": "cfd18260-c5f3-4e86-8b47-8d01d8dd823e",
   "metadata": {},
   "outputs": [
    {
     "name": "stdout",
     "output_type": "stream",
     "text": [
      "[23684.29, 11381.25, 14231.55, 18550.93, 122916.18, 25253.7, 21250.41, 20531.22, 24583.69, 11534.45, 28805.27]\n",
      "[25314.28, 9076.91, 14372.43, 13638.08, 1722822.9, 47756.68, 28625.94, 13804.82, 22604.55, 12487.62, 28789.08]\n",
      "['Jeep' 'Hatchback' 'Sedan' 'Microbus' 'Goods wagon' 'Universal' 'Coupe'\n",
      " 'Minivan' 'Cabriolet' 'Limousine' 'Pickup']\n"
     ]
    }
   ],
   "source": [
    "data_types = {}\n",
    "data_types['Price'] = 'int32'\n",
    "data = data.astype(data_types)\n",
    "categoryarray = data.Category.unique()\n",
    "pricemeanarray = []\n",
    "pricesdarray = []\n",
    "df2 = data.query(\"Category == 'Jeep'\")\n",
    "price = df2['Price']\n",
    "for x in categoryarray:\n",
    "    comm = \"Category == '\"+x+\"'\"\n",
    "    df2 = data.query(comm)\n",
    "    price = df2['Price']\n",
    "    mean = price.mean()\n",
    "    sd = price.std()\n",
    "    pricemeanarray.append(round(mean,2))\n",
    "    pricesdarray.append(round(sd,2))\n",
    "print(pricemeanarray)\n",
    "print(pricesdarray)\n",
    "print(categoryarray)"
   ]
  },
  {
   "cell_type": "code",
   "execution_count": 125,
   "id": "409fecd5-0625-4998-bfce-571c93452cf1",
   "metadata": {},
   "outputs": [
    {
     "data": {
      "image/png": "[encoded data removed]",
      "text/plain": [
       "<Figure size 432x288 with 1 Axes>"
      ]
     },
     "metadata": {
      "needs_background": "light"
     },
     "output_type": "display_data"
    }
   ],
   "source": [
    "fig, ax = plt.subplots()\n",
    "ax.errorbar(categoryarray, pricemeanarray, pricesdarray, linestyle='None', marker='^')\n",
    "ax.set_yscale('log')\n",
    "#ax.scatter(categoryarray,pricemeanarray)"
   ]
  },
  {
   "cell_type": "code",
   "execution_count": 96,
   "id": "6db9024f-131b-4ff2-8ddb-91371b1e80ec",
   "metadata": {},
   "outputs": [
    {
     "data": {
      "image/png": "[encoded data removed]",
      "text/plain": [
       "<Figure size 432x288 with 1 Axes>"
      ]
     },
     "metadata": {
      "needs_background": "light"
     },
     "output_type": "display_data"
    }
   ],
   "source": [
    "fig, ax = plt.subplots()\n",
    "ax.scatter(categoryarray,pricemeanarray)\n",
    "ax.set_yscale('log')"
   ]
  },
  {
   "cell_type": "code",
   "execution_count": 136,
   "id": "c479f01e-ed44-40f9-b380-bdbc9880186b",
   "metadata": {},
   "outputs": [
    {
     "name": "stdout",
     "output_type": "stream",
     "text": [
      "[ 1  9  2  3  7  6  0  8  5 10  4]\n"
     ]
    },
    {
     "data": {
      "text/plain": [
       "<matplotlib.collections.PathCollection at 0x7fdebcbb7790>"
      ]
     },
     "execution_count": 136,
     "metadata": {},
     "output_type": "execute_result"
    },
    {
     "data": {
      "image/png": "[encoded data removed]",
      "text/plain": [
       "<Figure size 432x288 with 1 Axes>"
      ]
     },
     "metadata": {
      "needs_background": "light"
     },
     "output_type": "display_data"
    }
   ],
   "source": [
    "import numpy as np\n",
    "pricemeansortarray = np.argsort(pricemeanarray)\n",
    "print(pricemeansortarray)\n",
    "pricemeanarrayln = np.log(pricemeanarray)\n",
    "minimean = pricemeanarrayln.min()\n",
    "unitstep = (pricemeanarrayln.max()-pricemeanarrayln.min())/1000\n",
    "pricemeanarraynormal = (pricemeanarrayln - minimean)/unitstep/1000\n",
    "#pricemeansortarray = pricemeanarray.sort()\n",
    "fig, ax = plt.subplots()\n",
    "ax.scatter(categoryarray,pricemeanarraynormal)"
   ]
  },
  {
   "cell_type": "code",
   "execution_count": 119,
   "id": "64d8977b-1406-41fe-b6dd-f95872977eca",
   "metadata": {},
   "outputs": [
    {
     "name": "stdout",
     "output_type": "stream",
     "text": [
      "Jeep normallization number is  0.3079780599792654\n",
      "Hatchback normallization number is  0.0\n",
      "Sedan normallization number is  0.09392340493746233\n",
      "Microbus normallization number is  0.2053143059216948\n",
      "Goods wagon normallization number is  1.0\n",
      "Universal normallization number is  0.33494160951177987\n",
      "Coupe normallization number is  0.26240791630064475\n",
      "Minivan normallization number is  0.2479389006787977\n",
      "Cabriolet normallization number is  0.32364130913667355\n",
      "Limousine normallization number is  0.005619141052235945\n",
      "Pickup normallization number is  0.3902405040526792\n"
     ]
    }
   ],
   "source": [
    "j = len(categoryarray)\n",
    "i = 0\n",
    "for i in range(j):\n",
    "    print(categoryarray[i], \"normallization number is \", pricemeanarraynormal[i])\n",
    "    i = i+1"
   ]
  },
  {
   "cell_type": "code",
   "execution_count": null,
   "id": "d588dd9c-2925-4c75-98d7-e63a56ad5fbe",
   "metadata": {},
   "outputs": [],
   "source": []
  }
 ],
 "metadata": {
  "kernelspec": {
   "display_name": "Python 3 (ipykernel)",
   "language": "python",
   "name": "python3"
  },
  "language_info": {
   "codemirror_mode": {
    "name": "ipython",
    "version": 3
   },
   "file_extension": ".py",
   "mimetype": "text/x-python",
   "name": "python",
   "nbconvert_exporter": "python",
   "pygments_lexer": "ipython3",
   "version": "3.9.12"
  }
 },
 "nbformat": 4,
 "nbformat_minor": 5
}
