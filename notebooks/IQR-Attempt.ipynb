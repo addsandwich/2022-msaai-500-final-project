{
 "cells": [
  {
   "cell_type": "code",
   "execution_count": 152,
   "id": "7c9d98d5-9099-4133-8a73-2f6dd8cd0894",
   "metadata": {},
   "outputs": [
    {
     "name": "stdout",
     "output_type": "stream",
     "text": [
      "The shape of the dataframe is:  (19237, 20)\n"
     ]
    }
   ],
   "source": [
    "# Importing important libraries\n",
    "import numpy as np\n",
    "import pandas as pd\n",
    "import seaborn as sns\n",
    "import matplotlib.pyplot as plt\n",
    "import data_utils_g1 as du\n",
    "plt.style.use('seaborn')\n",
    "\n",
    "path = du.open_file_general()\n",
    "# Reading the dataset\n",
    "data = pd.read_csv(path)\n",
    "print(\"The shape of the dataframe is: \", data.shape)"
   ]
  },
  {
   "cell_type": "code",
   "execution_count": 45,
   "id": "12ac1d70-17ee-4f90-bba8-8585443affcb",
   "metadata": {},
   "outputs": [
    {
     "data": {
      "text/html": [
       "<div>\n",
       "<style scoped>\n",
       "    .dataframe tbody tr th:only-of-type {\n",
       "        vertical-align: middle;\n",
       "    }\n",
       "\n",
       "    .dataframe tbody tr th {\n",
       "        vertical-align: top;\n",
       "    }\n",
       "\n",
       "    .dataframe thead th {\n",
       "        text-align: right;\n",
       "    }\n",
       "</style>\n",
       "<table border=\"1\" class=\"dataframe\">\n",
       "  <thead>\n",
       "    <tr style=\"text-align: right;\">\n",
       "      <th></th>\n",
       "      <th>Unnamed: 0</th>\n",
       "      <th>ID</th>\n",
       "      <th>Price</th>\n",
       "      <th>Levy</th>\n",
       "      <th>Prod_year</th>\n",
       "      <th>Engine_volume</th>\n",
       "      <th>Mileage</th>\n",
       "      <th>Cylinders</th>\n",
       "      <th>Airbags</th>\n",
       "    </tr>\n",
       "  </thead>\n",
       "  <tbody>\n",
       "    <tr>\n",
       "      <th>count</th>\n",
       "      <td>19237.0000</td>\n",
       "      <td>1.923700e+04</td>\n",
       "      <td>1.923700e+04</td>\n",
       "      <td>19237.000000</td>\n",
       "      <td>19237.000000</td>\n",
       "      <td>19237.000000</td>\n",
       "      <td>1.923700e+04</td>\n",
       "      <td>19237.000000</td>\n",
       "      <td>19237.000000</td>\n",
       "    </tr>\n",
       "    <tr>\n",
       "      <th>mean</th>\n",
       "      <td>9618.0000</td>\n",
       "      <td>4.557654e+07</td>\n",
       "      <td>1.855593e+04</td>\n",
       "      <td>632.528669</td>\n",
       "      <td>2010.912824</td>\n",
       "      <td>2.307990</td>\n",
       "      <td>1.532236e+06</td>\n",
       "      <td>4.582991</td>\n",
       "      <td>6.582627</td>\n",
       "    </tr>\n",
       "    <tr>\n",
       "      <th>std</th>\n",
       "      <td>5553.3879</td>\n",
       "      <td>9.365914e+05</td>\n",
       "      <td>1.905813e+05</td>\n",
       "      <td>567.721688</td>\n",
       "      <td>5.668673</td>\n",
       "      <td>0.877805</td>\n",
       "      <td>4.840387e+07</td>\n",
       "      <td>1.199933</td>\n",
       "      <td>4.320168</td>\n",
       "    </tr>\n",
       "    <tr>\n",
       "      <th>min</th>\n",
       "      <td>0.0000</td>\n",
       "      <td>2.074688e+07</td>\n",
       "      <td>1.000000e+00</td>\n",
       "      <td>0.000000</td>\n",
       "      <td>1939.000000</td>\n",
       "      <td>0.000000</td>\n",
       "      <td>0.000000e+00</td>\n",
       "      <td>1.000000</td>\n",
       "      <td>0.000000</td>\n",
       "    </tr>\n",
       "    <tr>\n",
       "      <th>25%</th>\n",
       "      <td>4809.0000</td>\n",
       "      <td>4.569837e+07</td>\n",
       "      <td>5.331000e+03</td>\n",
       "      <td>0.000000</td>\n",
       "      <td>2009.000000</td>\n",
       "      <td>1.800000</td>\n",
       "      <td>7.013900e+04</td>\n",
       "      <td>4.000000</td>\n",
       "      <td>4.000000</td>\n",
       "    </tr>\n",
       "    <tr>\n",
       "      <th>50%</th>\n",
       "      <td>9618.0000</td>\n",
       "      <td>4.577231e+07</td>\n",
       "      <td>1.317200e+04</td>\n",
       "      <td>642.000000</td>\n",
       "      <td>2012.000000</td>\n",
       "      <td>2.000000</td>\n",
       "      <td>1.260000e+05</td>\n",
       "      <td>4.000000</td>\n",
       "      <td>6.000000</td>\n",
       "    </tr>\n",
       "    <tr>\n",
       "      <th>75%</th>\n",
       "      <td>14427.0000</td>\n",
       "      <td>4.580204e+07</td>\n",
       "      <td>2.207500e+04</td>\n",
       "      <td>917.000000</td>\n",
       "      <td>2015.000000</td>\n",
       "      <td>2.500000</td>\n",
       "      <td>1.888880e+05</td>\n",
       "      <td>4.000000</td>\n",
       "      <td>12.000000</td>\n",
       "    </tr>\n",
       "    <tr>\n",
       "      <th>max</th>\n",
       "      <td>19236.0000</td>\n",
       "      <td>4.581665e+07</td>\n",
       "      <td>2.630750e+07</td>\n",
       "      <td>11714.000000</td>\n",
       "      <td>2020.000000</td>\n",
       "      <td>20.000000</td>\n",
       "      <td>2.147484e+09</td>\n",
       "      <td>16.000000</td>\n",
       "      <td>16.000000</td>\n",
       "    </tr>\n",
       "  </tbody>\n",
       "</table>\n",
       "</div>"
      ],
      "text/plain": [
       "       Unnamed: 0            ID         Price          Levy     Prod_year  \\\n",
       "count  19237.0000  1.923700e+04  1.923700e+04  19237.000000  19237.000000   \n",
       "mean    9618.0000  4.557654e+07  1.855593e+04    632.528669   2010.912824   \n",
       "std     5553.3879  9.365914e+05  1.905813e+05    567.721688      5.668673   \n",
       "min        0.0000  2.074688e+07  1.000000e+00      0.000000   1939.000000   \n",
       "25%     4809.0000  4.569837e+07  5.331000e+03      0.000000   2009.000000   \n",
       "50%     9618.0000  4.577231e+07  1.317200e+04    642.000000   2012.000000   \n",
       "75%    14427.0000  4.580204e+07  2.207500e+04    917.000000   2015.000000   \n",
       "max    19236.0000  4.581665e+07  2.630750e+07  11714.000000   2020.000000   \n",
       "\n",
       "       Engine_volume       Mileage     Cylinders       Airbags  \n",
       "count   19237.000000  1.923700e+04  19237.000000  19237.000000  \n",
       "mean        2.307990  1.532236e+06      4.582991      6.582627  \n",
       "std         0.877805  4.840387e+07      1.199933      4.320168  \n",
       "min         0.000000  0.000000e+00      1.000000      0.000000  \n",
       "25%         1.800000  7.013900e+04      4.000000      4.000000  \n",
       "50%         2.000000  1.260000e+05      4.000000      6.000000  \n",
       "75%         2.500000  1.888880e+05      4.000000     12.000000  \n",
       "max        20.000000  2.147484e+09     16.000000     16.000000  "
      ]
     },
     "execution_count": 45,
     "metadata": {},
     "output_type": "execute_result"
    }
   ],
   "source": [
    "data.describe()"
   ]
  },
  {
   "cell_type": "code",
   "execution_count": 58,
   "id": "4ba153d6-b36b-4e1a-86cf-762f16c6be3f",
   "metadata": {},
   "outputs": [
    {
     "data": {
      "image/png": "[encoded data removed]",
      "text/plain": [
       "<Figure size 432x288 with 1 Axes>"
      ]
     },
     "metadata": {},
     "output_type": "display_data"
    }
   ],
   "source": [
    "plt.figure(figsize=(6,4))\n",
    "sns.boxplot(x=data['Price'])\n",
    "plt.show()"
   ]
  },
  {
   "cell_type": "code",
   "execution_count": 89,
   "id": "b5de51ee-0895-4f73-aec5-cebec2a16c8a",
   "metadata": {},
   "outputs": [],
   "source": [
    "def outlier_treatment(datacolumn):\n",
    "    sorted(datacolumn)\n",
    "    Q1,Q3 = np.percentile(datacolumn , [0.25,0.75])\n",
    "    IQR = Q3 - Q1\n",
    "    lower_range = Q1 - (1.5 * IQR)    \n",
    "    upper_range = Q3 + (1.5 * IQR)\n",
    "    return lower_range,upper_range\n",
    "\n",
    "#datacolumn = data[\"Price\"]\n",
    "\n",
    "#up, down = outlier_treatment(datacolumn)\n",
    "#print(up)\n",
    "#print(down)"
   ]
  },
  {
   "cell_type": "code",
   "execution_count": 86,
   "id": "039725a9-6eb1-4fe9-bc5b-a3ae02d0830e",
   "metadata": {},
   "outputs": [],
   "source": [
    "outlier_free_list=0\n",
    "filtered_data=0\n",
    "\n",
    "lower_range = 0\n",
    "upper_range = 0\n",
    "\n",
    "# Removing the outliers\n",
    "def removeOutliers(data, col):\n",
    "    sorted(data)\n",
    "    Q3 = np.quantile(data[col], 0.75)\n",
    "    Q1 = np.quantile(data[col], 0.25)\n",
    "    IQR = Q3 - Q1\n",
    " \n",
    "    print(\"IQR value for column %s is: %s\" % (col, IQR))\n",
    "    global outlier_free_list\n",
    "    global filtered_data\n",
    " \n",
    "    global lower_range\n",
    "    global upper_range\n",
    "    \n",
    "    lower_range = Q1 - 1.5 * IQR\n",
    "    upper_range = Q3 + 1.5 * IQR\n",
    "    outlier_free_list = [x for x in data[col] if (\n",
    "        (x > lower_range) & (x < upper_range))]\n",
    "    filtered_data = data.loc[data[col].isin(outlier_free_list)]\n",
    "    return upper_range,lower_range\n",
    "\n",
    "#removeOutliers(data, 'Price')\n",
    "\n",
    "# Assigning filtered data back to our original variable\n",
    "#data = filtered_data\n",
    "#print(\"Shape of data after outlier removal is: \", data.shape)\n",
    "#print(\"Lower Range \", lower_range)\n",
    "#print(\"Upper Range \", lower_range)"
   ]
  },
  {
   "cell_type": "code",
   "execution_count": 174,
   "id": "a020dbbf-671c-42c9-ac03-99cb410433fb",
   "metadata": {},
   "outputs": [
    {
     "data": {
      "image/png": "[encoded data removed]",
      "text/plain": [
       "<Figure size 504x144 with 1 Axes>"
      ]
     },
     "metadata": {},
     "output_type": "display_data"
    }
   ],
   "source": [
    "plt.figure(figsize=(7,2))\n",
    "sns.boxplot(x=data['Price'])\n",
    "plt.show()\n"
   ]
  },
  {
   "cell_type": "code",
   "execution_count": null,
   "id": "a99d107b-5990-4380-9cb9-46ae5450dd4c",
   "metadata": {},
   "outputs": [],
   "source": []
  },
  {
   "cell_type": "code",
   "execution_count": 140,
   "id": "c0312211-a547-45be-bed0-2873f667ed51",
   "metadata": {},
   "outputs": [
    {
     "name": "stdout",
     "output_type": "stream",
     "text": [
      "192\n"
     ]
    },
    {
     "data": {
      "image/png": "[encoded data removed]",
      "text/plain": [
       "<Figure size 576x396 with 1 Axes>"
      ]
     },
     "metadata": {},
     "output_type": "display_data"
    }
   ],
   "source": [
    "import math\n",
    "\n",
    "n = 100\n",
    "a = len(data)\n",
    "b = int(len(data)/n)\n",
    "res = []\n",
    "for i in range(b):\n",
    "    x=0\n",
    "    temp = n if a >= i*n+n else a-i*n\n",
    "    for j in range(temp):\n",
    "        x+= data.iloc[n*i+j]['Price']\n",
    "    res.append(int(x/temp))\n",
    "res.sort()\n",
    "\n",
    "fig, ax = plt.subplots()\n",
    "ax.set_yscale('log')\n",
    "\n",
    "ax.plot(res[:-2])\n",
    "print(b)\n",
    "\n"
   ]
  },
  {
   "cell_type": "code",
   "execution_count": 141,
   "id": "d96f56c2-284f-4e27-a2d8-3c8155af532a",
   "metadata": {},
   "outputs": [
    {
     "name": "stdout",
     "output_type": "stream",
     "text": [
      "-3066.300000000012\n",
      "40624.18000000002\n"
     ]
    }
   ],
   "source": [
    "#datacolumn = data[\"Price\"]\n",
    "\n",
    "up, down = outlier_treatment(res)\n",
    "print(up)\n",
    "print(down)"
   ]
  },
  {
   "cell_type": "code",
   "execution_count": 144,
   "id": "c2dcfab0-8696-43e9-ade2-8da5901eb2c2",
   "metadata": {},
   "outputs": [
    {
     "data": {
      "text/plain": [
       "(array([2.6004226e-05, 0.0000000e+00, 0.0000000e+00, 0.0000000e+00,\n",
       "        0.0000000e+00, 0.0000000e+00, 1.3614778e-07]),\n",
       " array([ 12350.,  50605.,  88860., 127115., 165370., 203625., 241880.,\n",
       "        280135.]),\n",
       " [<matplotlib.patches.Polygon at 0x1e7ce70cc10>])"
      ]
     },
     "execution_count": 144,
     "metadata": {},
     "output_type": "execute_result"
    },
    {
     "data": {
      "image/png": "[encoded data removed]",
      "text/plain": [
       "<Figure size 576x396 with 1 Axes>"
      ]
     },
     "metadata": {},
     "output_type": "display_data"
    }
   ],
   "source": [
    "plt.hist(res, bins=7, density=True, histtype='stepfilled',\n",
    "         alpha=0.2, label='histogram of data')"
   ]
  },
  {
   "cell_type": "code",
   "execution_count": 145,
   "id": "42e92b59-f61c-4540-8025-ba107131458c",
   "metadata": {},
   "outputs": [
    {
     "name": "stdout",
     "output_type": "stream",
     "text": [
      "1481\n"
     ]
    }
   ],
   "source": [
    "data\n",
    "cat = data.Model.unique()\n",
    "print(len(cat))"
   ]
  },
  {
   "cell_type": "code",
   "execution_count": 9,
   "id": "f2a68216-9755-4cae-8760-ab45b608e0f8",
   "metadata": {},
   "outputs": [],
   "source": [
    "#data.to_csv('C:/Users/chris/Documents/School/Masters/zz_GIT/2022-msaai-500-final-project/data/sanitized/IQRSanitized.csv',index=False,line_terminator='\\n')"
   ]
  },
  {
   "cell_type": "code",
   "execution_count": 10,
   "id": "6b35be03-0349-42f6-9337-bb72906c6696",
   "metadata": {},
   "outputs": [],
   "source": [
    "#data2 = pd.read_csv('C:/Users/chris/Documents/School/Masters/zz_GIT/2022-msaai-500-final-project/data/sanitized/IQRSanitized.csv')"
   ]
  },
  {
   "cell_type": "code",
   "execution_count": 146,
   "id": "1105dcf0-cee4-45c0-a534-9e53d87bc4e1",
   "metadata": {},
   "outputs": [
    {
     "data": {
      "text/plain": [
       "66"
      ]
     },
     "execution_count": 146,
     "metadata": {},
     "output_type": "execute_result"
    }
   ],
   "source": [
    "thing = data2.Manufacturer.unique()\n",
    "len(thing)"
   ]
  },
  {
   "cell_type": "code",
   "execution_count": 147,
   "id": "8df7df86-350f-4ae0-a1c7-3369510d1d8f",
   "metadata": {},
   "outputs": [],
   "source": [
    "data2 = data\n",
    "data_types = {}\n",
    "data_types['Price'] = 'int32'\n",
    "data2 = data.astype(data_types)\n",
    "categoryarray = data2.Model.unique()\n",
    "pricemeanarray = []\n",
    "pricesdarray = []\n",
    "for x in categoryarray:\n",
    "    comm = \"Model == '\"+x+\"'\"\n",
    "    df2 = data2.query(comm)\n",
    "    price = df2['Price']\n",
    "    mean = price.mean()\n",
    "    sd = price.std()\n",
    "    pricemeanarray.append(round(mean,2))\n",
    "    pricesdarray.append(round(sd,2))"
   ]
  },
  {
   "cell_type": "code",
   "execution_count": 148,
   "id": "24e4d46e-c6cb-42f5-99be-755e1e79d15a",
   "metadata": {},
   "outputs": [
    {
     "data": {
      "image/png": "[encoded data removed]",
      "text/plain": [
       "<Figure size 576x396 with 1 Axes>"
      ]
     },
     "metadata": {},
     "output_type": "display_data"
    }
   ],
   "source": [
    "fig, ax = plt.subplots()\n",
    "ax.scatter(categoryarray,pricemeanarray)\n",
    "ax.set_yscale('log')"
   ]
  },
  {
   "cell_type": "code",
   "execution_count": 149,
   "id": "fdd91f95-414c-460e-bf14-00664bcc8a23",
   "metadata": {},
   "outputs": [
    {
     "name": "stdout",
     "output_type": "stream",
     "text": [
      "34.0\n",
      "872946.0\n"
     ]
    }
   ],
   "source": [
    "npArray = np.array(pricemeanarray)\n",
    "print(npArray.min())\n",
    "print(npArray.max())"
   ]
  },
  {
   "cell_type": "code",
   "execution_count": 150,
   "id": "410e85e1-e74e-4bf6-9e4f-2503006a327b",
   "metadata": {},
   "outputs": [],
   "source": [
    "small = (npArray-npArray.min())/npArray.max()"
   ]
  },
  {
   "cell_type": "code",
   "execution_count": 151,
   "id": "a029087a-e9a2-4c85-ae9c-d5db397accb3",
   "metadata": {},
   "outputs": [
    {
     "data": {
      "text/plain": [
       "<matplotlib.collections.PathCollection at 0x1e7db32a700>"
      ]
     },
     "execution_count": 151,
     "metadata": {},
     "output_type": "execute_result"
    },
    {
     "data": {
      "image/png": "[encoded data removed]",
      "text/plain": [
       "<Figure size 576x396 with 1 Axes>"
      ]
     },
     "metadata": {},
     "output_type": "display_data"
    }
   ],
   "source": [
    "fig, ax = plt.subplots()\n",
    "ax.scatter(small,pricemeanarray)"
   ]
  },
  {
   "cell_type": "code",
   "execution_count": 70,
   "id": "5aa0056f-d671-4d58-b76c-0b52bfdafa16",
   "metadata": {},
   "outputs": [
    {
     "data": {
      "text/plain": [
       "0        13328\n",
       "1        16621\n",
       "2         8467\n",
       "3         3607\n",
       "4        11726\n",
       "         ...  \n",
       "19232     8467\n",
       "19233    15681\n",
       "19234    26108\n",
       "19235     5331\n",
       "19236      470\n",
       "Name: Price, Length: 19237, dtype: int64"
      ]
     },
     "execution_count": 70,
     "metadata": {},
     "output_type": "execute_result"
    },
    {
     "data": {
      "image/png": "[encoded data removed]",
      "text/plain": [
       "<Figure size 576x396 with 1 Axes>"
      ]
     },
     "metadata": {},
     "output_type": "display_data"
    }
   ],
   "source": [
    "dataprice = data['Price']\n",
    "\n",
    "sorted(dataprice)\n",
    "\n",
    "\n",
    "fig, ax = plt.subplots()\n",
    "ax.plot(dataprice[:-10])\n",
    "dataprice"
   ]
  },
  {
   "cell_type": "code",
   "execution_count": 170,
   "id": "3d397724-e7c7-4ccf-91f4-5cda6329097b",
   "metadata": {},
   "outputs": [
    {
     "name": "stdout",
     "output_type": "stream",
     "text": [
      "345384.784400252\n",
      "3.0\n"
     ]
    },
    {
     "data": {
      "text/plain": [
       "308906"
      ]
     },
     "execution_count": 170,
     "metadata": {},
     "output_type": "execute_result"
    }
   ],
   "source": [
    "# This is a quantile based capping and flooring method\n",
    "# This simple method seems to be the best out of all of our other attempts\n",
    "\n",
    "\n",
    "def removeOutliers2(data, col):\n",
    "    sorted(data)\n",
    "    Q3 = np.quantile(data[col], 0.99985)\n",
    "    Q1 = np.quantile(data[col], 0.00015)\n",
    "    \n",
    "    lower_range = Q1\n",
    "    upper_range = Q3\n",
    "    filtered_data = 0\n",
    "    \n",
    "    outlier_free_list = [x for x in data[col] if (\n",
    "        (x > lower_range) & (x < upper_range))]\n",
    "    filtered_data = data[col].loc[data[col].isin(outlier_free_list)]\n",
    "    return Q3, Q1, filtered_data\n",
    "\n",
    "\n",
    "\n",
    "up,down, filtered_data = removeOutliers2(data,\"Price\")\n",
    "print(up)\n",
    "print(f'{down:.1f}')\n",
    "\n",
    "npFiltered = np.array(filtered_data)"
   ]
  },
  {
   "cell_type": "code",
   "execution_count": 172,
   "id": "6d423792-f06e-4d2a-ab2a-0d0432dac3e9",
   "metadata": {},
   "outputs": [
    {
     "data": {
      "text/plain": [
       "<matplotlib.collections.PathCollection at 0x1e7dd876520>"
      ]
     },
     "execution_count": 172,
     "metadata": {},
     "output_type": "execute_result"
    },
    {
     "data": {
      "image/png": "[encoded data removed]",
      "text/plain": [
       "<Figure size 576x396 with 1 Axes>"
      ]
     },
     "metadata": {},
     "output_type": "display_data"
    }
   ],
   "source": [
    "small = (npFiltered-npFiltered.min())/npFiltered.max()\n",
    "fig, ax = plt.subplots()\n",
    "ax.scatter(small,npFiltered)"
   ]
  },
  {
   "cell_type": "code",
   "execution_count": 175,
   "id": "0fdf0532-799d-4c65-894b-1a24c4e61184",
   "metadata": {},
   "outputs": [
    {
     "data": {
      "image/png": "[encoded data removed]",
      "text/plain": [
       "<Figure size 504x144 with 1 Axes>"
      ]
     },
     "metadata": {},
     "output_type": "display_data"
    }
   ],
   "source": [
    "plt.figure(figsize=(7,2))\n",
    "sns.boxplot(x=filtered_data)\n",
    "plt.show()"
   ]
  },
  {
   "cell_type": "code",
   "execution_count": null,
   "id": "254d9ecc-2fa3-4d21-9203-e20c1e7556d3",
   "metadata": {},
   "outputs": [],
   "source": [
    "dffinal = pd.DataFrame({'y':small, 'x':})"
   ]
  }
 ],
 "metadata": {
  "kernelspec": {
   "display_name": "Python 3 (ipykernel)",
   "language": "python",
   "name": "python3"
  },
  "language_info": {
   "codemirror_mode": {
    "name": "ipython",
    "version": 3
   },
   "file_extension": ".py",
   "mimetype": "text/x-python",
   "name": "python",
   "nbconvert_exporter": "python",
   "pygments_lexer": "ipython3",
   "version": "3.9.12"
  }
 },
 "nbformat": 4,
 "nbformat_minor": 5
}
