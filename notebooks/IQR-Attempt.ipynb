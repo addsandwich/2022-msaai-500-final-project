{
 "cells": [
  {
   "cell_type": "code",
   "execution_count": 1,
   "id": "7c9d98d5-9099-4133-8a73-2f6dd8cd0894",
   "metadata": {},
   "outputs": [
    {
     "name": "stdout",
     "output_type": "stream",
     "text": [
      "The shape of the dataframe is:  (19237, 20)\n"
     ]
    }
   ],
   "source": [
    "# Importing important libraries\n",
    "import numpy as np\n",
    "import pandas as pd\n",
    "import seaborn as sns\n",
    "import matplotlib.pyplot as plt\n",
    "import data_utils_g1 as du\n",
    "plt.style.use('seaborn')\n",
    "\n",
    "path = du.open_file_general()\n",
    "# Reading the dataset\n",
    "data = pd.read_csv(path)\n",
    "print(\"The shape of the dataframe is: \", data.shape)"
   ]
  },
  {
   "cell_type": "code",
   "execution_count": 2,
   "id": "12ac1d70-17ee-4f90-bba8-8585443affcb",
   "metadata": {},
   "outputs": [
    {
     "data": {
      "text/html": [
       "<div>\n",
       "<style scoped>\n",
       "    .dataframe tbody tr th:only-of-type {\n",
       "        vertical-align: middle;\n",
       "    }\n",
       "\n",
       "    .dataframe tbody tr th {\n",
       "        vertical-align: top;\n",
       "    }\n",
       "\n",
       "    .dataframe thead th {\n",
       "        text-align: right;\n",
       "    }\n",
       "</style>\n",
       "<table border=\"1\" class=\"dataframe\">\n",
       "  <thead>\n",
       "    <tr style=\"text-align: right;\">\n",
       "      <th></th>\n",
       "      <th>Unnamed: 0</th>\n",
       "      <th>ID</th>\n",
       "      <th>Price</th>\n",
       "      <th>Levy</th>\n",
       "      <th>Prod_year</th>\n",
       "      <th>Engine_volume</th>\n",
       "      <th>Mileage</th>\n",
       "      <th>Cylinders</th>\n",
       "      <th>Airbags</th>\n",
       "    </tr>\n",
       "  </thead>\n",
       "  <tbody>\n",
       "    <tr>\n",
       "      <th>count</th>\n",
       "      <td>19237.0000</td>\n",
       "      <td>1.923700e+04</td>\n",
       "      <td>1.923700e+04</td>\n",
       "      <td>19237.000000</td>\n",
       "      <td>19237.000000</td>\n",
       "      <td>19237.000000</td>\n",
       "      <td>1.923700e+04</td>\n",
       "      <td>19237.000000</td>\n",
       "      <td>19237.000000</td>\n",
       "    </tr>\n",
       "    <tr>\n",
       "      <th>mean</th>\n",
       "      <td>9618.0000</td>\n",
       "      <td>4.557654e+07</td>\n",
       "      <td>1.855593e+04</td>\n",
       "      <td>632.528669</td>\n",
       "      <td>2010.912824</td>\n",
       "      <td>2.307990</td>\n",
       "      <td>1.532236e+06</td>\n",
       "      <td>4.582991</td>\n",
       "      <td>6.582627</td>\n",
       "    </tr>\n",
       "    <tr>\n",
       "      <th>std</th>\n",
       "      <td>5553.3879</td>\n",
       "      <td>9.365914e+05</td>\n",
       "      <td>1.905813e+05</td>\n",
       "      <td>567.721688</td>\n",
       "      <td>5.668673</td>\n",
       "      <td>0.877805</td>\n",
       "      <td>4.840387e+07</td>\n",
       "      <td>1.199933</td>\n",
       "      <td>4.320168</td>\n",
       "    </tr>\n",
       "    <tr>\n",
       "      <th>min</th>\n",
       "      <td>0.0000</td>\n",
       "      <td>2.074688e+07</td>\n",
       "      <td>1.000000e+00</td>\n",
       "      <td>0.000000</td>\n",
       "      <td>1939.000000</td>\n",
       "      <td>0.000000</td>\n",
       "      <td>0.000000e+00</td>\n",
       "      <td>1.000000</td>\n",
       "      <td>0.000000</td>\n",
       "    </tr>\n",
       "    <tr>\n",
       "      <th>25%</th>\n",
       "      <td>4809.0000</td>\n",
       "      <td>4.569837e+07</td>\n",
       "      <td>5.331000e+03</td>\n",
       "      <td>0.000000</td>\n",
       "      <td>2009.000000</td>\n",
       "      <td>1.800000</td>\n",
       "      <td>7.013900e+04</td>\n",
       "      <td>4.000000</td>\n",
       "      <td>4.000000</td>\n",
       "    </tr>\n",
       "    <tr>\n",
       "      <th>50%</th>\n",
       "      <td>9618.0000</td>\n",
       "      <td>4.577231e+07</td>\n",
       "      <td>1.317200e+04</td>\n",
       "      <td>642.000000</td>\n",
       "      <td>2012.000000</td>\n",
       "      <td>2.000000</td>\n",
       "      <td>1.260000e+05</td>\n",
       "      <td>4.000000</td>\n",
       "      <td>6.000000</td>\n",
       "    </tr>\n",
       "    <tr>\n",
       "      <th>75%</th>\n",
       "      <td>14427.0000</td>\n",
       "      <td>4.580204e+07</td>\n",
       "      <td>2.207500e+04</td>\n",
       "      <td>917.000000</td>\n",
       "      <td>2015.000000</td>\n",
       "      <td>2.500000</td>\n",
       "      <td>1.888880e+05</td>\n",
       "      <td>4.000000</td>\n",
       "      <td>12.000000</td>\n",
       "    </tr>\n",
       "    <tr>\n",
       "      <th>max</th>\n",
       "      <td>19236.0000</td>\n",
       "      <td>4.581665e+07</td>\n",
       "      <td>2.630750e+07</td>\n",
       "      <td>11714.000000</td>\n",
       "      <td>2020.000000</td>\n",
       "      <td>20.000000</td>\n",
       "      <td>2.147484e+09</td>\n",
       "      <td>16.000000</td>\n",
       "      <td>16.000000</td>\n",
       "    </tr>\n",
       "  </tbody>\n",
       "</table>\n",
       "</div>"
      ],
      "text/plain": [
       "       Unnamed: 0            ID         Price          Levy     Prod_year  \\\n",
       "count  19237.0000  1.923700e+04  1.923700e+04  19237.000000  19237.000000   \n",
       "mean    9618.0000  4.557654e+07  1.855593e+04    632.528669   2010.912824   \n",
       "std     5553.3879  9.365914e+05  1.905813e+05    567.721688      5.668673   \n",
       "min        0.0000  2.074688e+07  1.000000e+00      0.000000   1939.000000   \n",
       "25%     4809.0000  4.569837e+07  5.331000e+03      0.000000   2009.000000   \n",
       "50%     9618.0000  4.577231e+07  1.317200e+04    642.000000   2012.000000   \n",
       "75%    14427.0000  4.580204e+07  2.207500e+04    917.000000   2015.000000   \n",
       "max    19236.0000  4.581665e+07  2.630750e+07  11714.000000   2020.000000   \n",
       "\n",
       "       Engine_volume       Mileage     Cylinders       Airbags  \n",
       "count   19237.000000  1.923700e+04  19237.000000  19237.000000  \n",
       "mean        2.307990  1.532236e+06      4.582991      6.582627  \n",
       "std         0.877805  4.840387e+07      1.199933      4.320168  \n",
       "min         0.000000  0.000000e+00      1.000000      0.000000  \n",
       "25%         1.800000  7.013900e+04      4.000000      4.000000  \n",
       "50%         2.000000  1.260000e+05      4.000000      6.000000  \n",
       "75%         2.500000  1.888880e+05      4.000000     12.000000  \n",
       "max        20.000000  2.147484e+09     16.000000     16.000000  "
      ]
     },
     "execution_count": 2,
     "metadata": {},
     "output_type": "execute_result"
    }
   ],
   "source": [
    "data.describe()"
   ]
  },
  {
   "cell_type": "code",
   "execution_count": 3,
   "id": "4ba153d6-b36b-4e1a-86cf-762f16c6be3f",
   "metadata": {},
   "outputs": [
    {
     "data": {
      "image/png": "[encoded data removed]",
      "text/plain": [
       "<Figure size 432x288 with 1 Axes>"
      ]
     },
     "metadata": {},
     "output_type": "display_data"
    }
   ],
   "source": [
    "plt.figure(figsize=(6,4))\n",
    "sns.boxplot(x=data['Price'])\n",
    "plt.show()"
   ]
  },
  {
   "cell_type": "code",
   "execution_count": 2,
   "id": "039725a9-6eb1-4fe9-bc5b-a3ae02d0830e",
   "metadata": {},
   "outputs": [
    {
     "name": "stdout",
     "output_type": "stream",
     "text": [
      "IQR value for column Price is: 16744.0\n",
      "Shape of data after outlier removal is:  (18164, 20)\n"
     ]
    }
   ],
   "source": [
    "outlier_free_list=0\n",
    "filtered_data=0\n",
    "\n",
    "# Removing the outliers\n",
    "def removeOutliers(data, col):\n",
    "    Q3 = np.quantile(data[col], 0.75)\n",
    "    Q1 = np.quantile(data[col], 0.25)\n",
    "    IQR = Q3 - Q1\n",
    " \n",
    "    print(\"IQR value for column %s is: %s\" % (col, IQR))\n",
    "    global outlier_free_list\n",
    "    global filtered_data\n",
    " \n",
    "    lower_range = Q1 - 1.5 * IQR\n",
    "    upper_range = Q3 + 1.5 * IQR\n",
    "    outlier_free_list = [x for x in data[col] if (\n",
    "        (x > lower_range) & (x < upper_range))]\n",
    "    filtered_data = data.loc[data[col].isin(outlier_free_list)]\n",
    " \n",
    " \n",
    "\n",
    "removeOutliers(data, 'Price')\n",
    "\n",
    " \n",
    "  \n",
    "# Assigning filtered data back to our original variable\n",
    "data = filtered_data\n",
    "print(\"Shape of data after outlier removal is: \", data.shape)"
   ]
  },
  {
   "cell_type": "code",
   "execution_count": 11,
   "id": "a020dbbf-671c-42c9-ac03-99cb410433fb",
   "metadata": {},
   "outputs": [
    {
     "data": {
      "image/png": "[encoded data removed]",
      "text/plain": [
       "<Figure size 432x288 with 1 Axes>"
      ]
     },
     "metadata": {},
     "output_type": "display_data"
    }
   ],
   "source": [
    "plt.figure(figsize=(6,4))\n",
    "sns.boxplot(x=data['Price'])\n",
    "plt.show()"
   ]
  },
  {
   "cell_type": "code",
   "execution_count": 4,
   "id": "c0312211-a547-45be-bed0-2873f667ed51",
   "metadata": {},
   "outputs": [
    {
     "name": "stdout",
     "output_type": "stream",
     "text": [
      "181\n"
     ]
    },
    {
     "data": {
      "image/png": "[encoded data removed]",
      "text/plain": [
       "<Figure size 576x396 with 1 Axes>"
      ]
     },
     "metadata": {},
     "output_type": "display_data"
    }
   ],
   "source": [
    "n = 100\n",
    "a = len(data)\n",
    "b = int(len(data)/n)\n",
    "res = []\n",
    "for i in range(b):\n",
    "    x=0\n",
    "    temp = n if a >= i*n+n else a-i*n\n",
    "    for j in range(temp):\n",
    "        x+= data.iloc[n*i+j]['Price']\n",
    "    res.append(int(x/temp))\n",
    "res.sort()\n",
    "plt.plot(res)\n",
    "print(b)"
   ]
  },
  {
   "cell_type": "code",
   "execution_count": 5,
   "id": "c2dcfab0-8696-43e9-ade2-8da5901eb2c2",
   "metadata": {},
   "outputs": [
    {
     "data": {
      "text/plain": [
       "(array([6.37974813e-06, 8.93164738e-05, 2.93468414e-04, 3.63645643e-04,\n",
       "        2.48810177e-04, 1.08455718e-04, 4.46582369e-05]),\n",
       " array([10920., 11786., 12652., 13518., 14384., 15250., 16116., 16982.]),\n",
       " [<matplotlib.patches.Polygon at 0x1c954bd62b0>])"
      ]
     },
     "execution_count": 5,
     "metadata": {},
     "output_type": "execute_result"
    },
    {
     "data": {
      "image/png": "[encoded data removed]",
      "text/plain": [
       "<Figure size 576x396 with 1 Axes>"
      ]
     },
     "metadata": {},
     "output_type": "display_data"
    }
   ],
   "source": [
    "plt.hist(res, bins=7, density=True, histtype='stepfilled',\n",
    "         alpha=0.2, label='histogram of data')"
   ]
  },
  {
   "cell_type": "code",
   "execution_count": 8,
   "id": "42e92b59-f61c-4540-8025-ba107131458c",
   "metadata": {},
   "outputs": [
    {
     "name": "stdout",
     "output_type": "stream",
     "text": [
      "1395\n"
     ]
    }
   ],
   "source": [
    "data\n",
    "cat = data.Model.unique()\n",
    "print(len(cat))"
   ]
  },
  {
   "cell_type": "code",
   "execution_count": 10,
   "id": "f2a68216-9755-4cae-8760-ab45b608e0f8",
   "metadata": {},
   "outputs": [],
   "source": [
    "data.to_csv('C:/Users/chris/Documents/School/Masters/zz_GIT/2022-msaai-500-final-project/data/sanitized/IQRSanitized.csv',index=False,line_terminator='\\n')"
   ]
  },
  {
   "cell_type": "code",
   "execution_count": null,
   "id": "6b35be03-0349-42f6-9337-bb72906c6696",
   "metadata": {},
   "outputs": [],
   "source": []
  }
 ],
 "metadata": {
  "kernelspec": {
   "display_name": "Python 3 (ipykernel)",
   "language": "python",
   "name": "python3"
  },
  "language_info": {
   "codemirror_mode": {
    "name": "ipython",
    "version": 3
   },
   "file_extension": ".py",
   "mimetype": "text/x-python",
   "name": "python",
   "nbconvert_exporter": "python",
   "pygments_lexer": "ipython3",
   "version": "3.9.12"
  }
 },
 "nbformat": 4,
 "nbformat_minor": 5
}
