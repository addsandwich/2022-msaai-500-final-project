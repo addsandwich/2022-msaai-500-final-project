{
 "cells": [
  {
   "cell_type": "markdown",
   "id": "9daa3075-4fe1-47c1-a441-1200c88a31db",
   "metadata": {
    "tags": []
   },
   "source": [
    "### 3. Quantization of Categorical Variable"
   ]
  },
  {
   "cell_type": "markdown",
   "id": "9f781226-7905-48bb-a8d8-5591c59e205d",
   "metadata": {},
   "source": [
    "When we analyze the car sales data, we have the following"
   ]
  },
  {
   "cell_type": "code",
   "execution_count": 3,
   "id": "88c120e6-aae8-43a1-952a-03187361563c",
   "metadata": {},
   "outputs": [
    {
     "data": {
      "text/plain": [
       "Unnamed: 0            int64\n",
       "ID                    int64\n",
       "Price                 int64\n",
       "Levy                  int64\n",
       "Manufacturer         object\n",
       "Model                object\n",
       "Prod_year             int64\n",
       "Category             object\n",
       "Leather_interior     object\n",
       "Fuel_type            object\n",
       "Engine_volume       float64\n",
       "Turbo                object\n",
       "Mileage               int64\n",
       "Cylinders             int64\n",
       "Gear_box_type        object\n",
       "Drive_wheels         object\n",
       "Doors                object\n",
       "Wheel                object\n",
       "Color                object\n",
       "Airbags               int64\n",
       "dtype: object"
      ]
     },
     "execution_count": 3,
     "metadata": {},
     "output_type": "execute_result"
    }
   ],
   "source": [
    "#import librarys\n",
    "import pandas as pd\n",
    "import numpy as np\n",
    "import matplotlib.pyplot as plt\n",
    "import seaborn as sns\n",
    "#read training data from csv file to dataframe\n",
    "df = pd.read_csv('TrainingData.csv')\n",
    "#display data types\n",
    "df.dtypes"
   ]
  },
  {
   "cell_type": "markdown",
   "id": "e058160b-a0b3-4443-b281-e93b201b573a",
   "metadata": {},
   "source": [
    "We can see there are columns data are \"object\" type. Which mean they are categorical variables. We cannot use categorical variables in the linear regression model. We have to quantize the categorical varibles to a integer or flow data type. After research we found following two methods that can use for categorical variable quantization."
   ]
  },
  {
   "cell_type": "markdown",
   "id": "bac079ac-ce06-48ff-a816-3958e361eb2e",
   "metadata": {},
   "source": [
    "#### 3.1 Quantization with Calculating Group Mean"
   ]
  },
  {
   "cell_type": "markdown",
   "id": "f4202220-aa2e-4efa-9f12-6454a61dfd27",
   "metadata": {},
   "source": [
    "First option of variable quntization is calculated group mean against Price. Then find proper digit for every different category type, then assigned the number. Where we will use Category column data as a test. We display all the different type of data in the category column:"
   ]
  },
  {
   "cell_type": "code",
   "execution_count": 4,
   "id": "6b7c3dba-f26f-4bbb-8f45-f3c58cc641d2",
   "metadata": {},
   "outputs": [
    {
     "name": "stdout",
     "output_type": "stream",
     "text": [
      "['Jeep' 'Hatchback' 'Sedan' 'Microbus' 'Goods wagon' 'Universal' 'Coupe'\n",
      " 'Minivan' 'Cabriolet' 'Limousine' 'Pickup']\n"
     ]
    }
   ],
   "source": [
    "print(df.Category.unique())"
   ]
  },
  {
   "cell_type": "markdown",
   "id": "19f0498e-2f04-4daf-b377-5b1cd140b4df",
   "metadata": {},
   "source": [
    "We can see there are 11 types for data in Category columne. Now we need calculated Group mean price for each different type of car category:"
   ]
  },
  {
   "cell_type": "code",
   "execution_count": 7,
   "id": "bc5b8b1e-6504-4b38-be27-1f981b9940d1",
   "metadata": {},
   "outputs": [
    {
     "name": "stdout",
     "output_type": "stream",
     "text": [
      "Group Mean Price is  [23927.76, 11509.12, 14261.48, 17483.68, 10101.57, 22919.33, 20849.0, 20655.98, 22713.38, 13856.0, 27078.91]\n",
      "Standard Deviation is  [23895.86, 9099.94, 14492.03, 11025.5, 9177.41, 17805.5, 31293.12, 14400.32, 24383.81, 13314.98, 27637.63]\n",
      "Group Name is ['Jeep' 'Hatchback' 'Sedan' 'Microbus' 'Goods wagon' 'Universal' 'Coupe'\n",
      " 'Minivan' 'Cabriolet' 'Limousine' 'Pickup']\n"
     ]
    }
   ],
   "source": [
    "# Make sure price data type is int\n",
    "data_types = {}\n",
    "data_types['Price'] = 'int32'\n",
    "df = df.astype(data_types)\n",
    "# store call type of cars in array\n",
    "categoryarray = df.Category.unique()\n",
    "# Creaete Price mean array\n",
    "pricemeanarray = []\n",
    "# Create Standard Deviations array\n",
    "pricesdarray = []\n",
    "#for loop calculate mean and SD for every type of car\n",
    "for x in categoryarray:\n",
    "    comm = \"Category == '\"+x+\"'\"\n",
    "    df2 = df.query(comm)\n",
    "    price = df2['Price']\n",
    "    mean = price.mean()\n",
    "    sd = price.std()\n",
    "    pricemeanarray.append(round(mean,2))\n",
    "    pricesdarray.append(round(sd,2))\n",
    "#print results\n",
    "print(\"Group Mean Price is \", pricemeanarray)\n",
    "print(\"Standard Deviation is \",pricesdarray)\n",
    "print(\"Group Name is\", categoryarray)"
   ]
  },
  {
   "cell_type": "code",
   "execution_count": 9,
   "id": "e7f27a23-47fd-45ac-affb-cbbad877240d",
   "metadata": {},
   "outputs": [
    {
     "data": {
      "image/png": "[encoded data removed]",
      "text/plain": [
       "<Figure size 432x288 with 1 Axes>"
      ]
     },
     "metadata": {
      "needs_background": "light"
     },
     "output_type": "display_data"
    }
   ],
   "source": [
    "#plot the data for review and set price axis at log for better visibility\n",
    "fig, ax = plt.subplots()\n",
    "ax.errorbar(categoryarray, pricemeanarray, pricesdarray, linestyle='None', marker='^')\n",
    "ax.set_yscale('log')"
   ]
  },
  {
   "cell_type": "code",
   "execution_count": 10,
   "id": "d33c93d8-3851-425c-9924-e2821b3af9a3",
   "metadata": {},
   "outputs": [
    {
     "data": {
      "image/png": "[encoded data removed]",
      "text/plain": [
       "<Figure size 432x288 with 1 Axes>"
      ]
     },
     "metadata": {
      "needs_background": "light"
     },
     "output_type": "display_data"
    }
   ],
   "source": [
    "#plot data without standard deviations\n",
    "fig, ax = plt.subplots()\n",
    "ax.scatter(categoryarray,pricemeanarray)\n",
    "ax.set_yscale('log')"
   ]
  },
  {
   "cell_type": "markdown",
   "id": "2b4d422b-911d-4923-af51-d528acfdf162",
   "metadata": {},
   "source": [
    "Now bese on the price mean in every type car, we can find the max price and min price for normalization. base on $Unit Step = \\frac {Max Price - Min Price}{1000}$. And assign the unit step price back to every typ of car for a number in the $(0, 1)$ interval."
   ]
  },
  {
   "cell_type": "code",
   "execution_count": 15,
   "id": "95a56610-0314-4516-b856-dcfdacdbe856",
   "metadata": {},
   "outputs": [
    {
     "data": {
      "text/plain": [
       "<matplotlib.collections.PathCollection at 0x7fa491414f10>"
      ]
     },
     "execution_count": 15,
     "metadata": {},
     "output_type": "execute_result"
    },
    {
     "data": {
      "image/png": "[encoded data removed]",
      "text/plain": [
       "<Figure size 432x288 with 1 Axes>"
      ]
     },
     "metadata": {
      "needs_background": "light"
     },
     "output_type": "display_data"
    }
   ],
   "source": [
    "#imprt numpy library\n",
    "import numpy as np\n",
    "pricemeanarrayln = np.log(pricemeanarray)\n",
    "#find max mean and min mean and calcuate unit step\n",
    "minimean = pricemeanarrayln.min()\n",
    "unitstep = (pricemeanarrayln.max()-pricemeanarrayln.min())/1000\n",
    "#assign the unit step back to every car type\n",
    "pricemeanarraynormal = (pricemeanarrayln - minimean)/unitstep/1000\n",
    "#Plot data for better visibility\n",
    "fig, ax = plt.subplots()\n",
    "ax.scatter(categoryarray,pricemeanarraynormal)"
   ]
  },
  {
   "cell_type": "code",
   "execution_count": 14,
   "id": "620e3eca-b600-4fb4-889c-5db2412346c2",
   "metadata": {},
   "outputs": [
    {
     "name": "stdout",
     "output_type": "stream",
     "text": [
      "Jeep normallization number is  0.8745356666201155\n",
      "Hatchback normallization number is  0.13229249056919942\n",
      "Sedan normallization number is  0.349745270699173\n",
      "Microbus normallization number is  0.5563298412491332\n",
      "Goods wagon normallization number is  0.0\n",
      "Universal normallization number is  0.8308685039568255\n",
      "Coupe normallization number is  0.7348558300196918\n",
      "Minivan normallization number is  0.7254232613366441\n",
      "Cabriolet normallization number is  0.8217144550817334\n",
      "Limousine normallization number is  0.32049378734106937\n",
      "Pickup normallization number is  0.9999999999999999\n"
     ]
    }
   ],
   "source": [
    "#loop to print out all different number assignment for the car category\n",
    "j = len(categoryarray)\n",
    "i = 0\n",
    "for i in range(j):\n",
    "    print(categoryarray[i], \"normallization number is \", pricemeanarraynormal[i])\n",
    "    i = i+1"
   ]
  },
  {
   "cell_type": "code",
   "execution_count": 17,
   "id": "78c829c1-9dac-4608-8ff8-67d9afb07ea5",
   "metadata": {},
   "outputs": [
    {
     "data": {
      "text/plain": [
       "<matplotlib.collections.PathCollection at 0x7fa491613d00>"
      ]
     },
     "execution_count": 17,
     "metadata": {},
     "output_type": "execute_result"
    },
    {
     "data": {
      "image/png": "[encoded data removed]",
      "text/plain": [
       "<Figure size 432x288 with 1 Axes>"
      ]
     },
     "metadata": {
      "needs_background": "light"
     },
     "output_type": "display_data"
    }
   ],
   "source": [
    "#plot data with number assigned to every different car category\n",
    "fig, ax = plt.subplots()\n",
    "ax.scatter(pricemeanarraynormal, pricemeanarray)"
   ]
  },
  {
   "cell_type": "markdown",
   "id": "d2c00cf3-72d5-438e-ab07-e95cfaca1925",
   "metadata": {},
   "source": [
    "We can see that we should be able to use this mothed for the Category Column. However, we also found another solution for variable quantization called One-Hot-Encoding."
   ]
  },
  {
   "cell_type": "markdown",
   "id": "fa849196-4c54-411d-85ae-b8da8782d9bf",
   "metadata": {},
   "source": [
    "#### 3.2 One-Hot-Encoding (Add Dummies)"
   ]
  },
  {
   "cell_type": "markdown",
   "id": "fe33bd61-77e8-4661-bb0f-e91162abebb5",
   "metadata": {},
   "source": [
    "After more research, we found another solution for variable quantization is called One-Hot_Encoding which is adding dummy variable columnes for every category and substract one $n-1$. We will test this in Category Column again:"
   ]
  },
  {
   "cell_type": "code",
   "execution_count": 18,
   "id": "51f83eff-61dc-4aef-b0be-666565a70ef6",
   "metadata": {},
   "outputs": [
    {
     "name": "stdout",
     "output_type": "stream",
     "text": [
      "['Jeep' 'Hatchback' 'Sedan' 'Microbus' 'Goods wagon' 'Universal' 'Coupe'\n",
      " 'Minivan' 'Cabriolet' 'Limousine' 'Pickup']\n"
     ]
    }
   ],
   "source": [
    "print(df.Category.unique())"
   ]
  },
  {
   "cell_type": "markdown",
   "id": "25cac6d2-3eab-4579-b8cd-12065e7ac533",
   "metadata": {},
   "source": [
    "Again, we see there are 11 different car categories in total. Now we apply One-Hot-Encoding to Category columns simply by using get_dummies() fuction in Pandas dataframe "
   ]
  },
  {
   "cell_type": "code",
   "execution_count": 21,
   "id": "0fe80011-adaf-4e2e-9933-4d49d802a90e",
   "metadata": {},
   "outputs": [
    {
     "data": {
      "text/html": [
       "<div>\n",
       "<style scoped>\n",
       "    .dataframe tbody tr th:only-of-type {\n",
       "        vertical-align: middle;\n",
       "    }\n",
       "\n",
       "    .dataframe tbody tr th {\n",
       "        vertical-align: top;\n",
       "    }\n",
       "\n",
       "    .dataframe thead th {\n",
       "        text-align: right;\n",
       "    }\n",
       "</style>\n",
       "<table border=\"1\" class=\"dataframe\">\n",
       "  <thead>\n",
       "    <tr style=\"text-align: right;\">\n",
       "      <th></th>\n",
       "      <th>Cabriolet</th>\n",
       "      <th>Coupe</th>\n",
       "      <th>Goods wagon</th>\n",
       "      <th>Hatchback</th>\n",
       "      <th>Jeep</th>\n",
       "      <th>Limousine</th>\n",
       "      <th>Microbus</th>\n",
       "      <th>Minivan</th>\n",
       "      <th>Pickup</th>\n",
       "      <th>Sedan</th>\n",
       "      <th>Universal</th>\n",
       "    </tr>\n",
       "  </thead>\n",
       "  <tbody>\n",
       "    <tr>\n",
       "      <th>0</th>\n",
       "      <td>0</td>\n",
       "      <td>0</td>\n",
       "      <td>0</td>\n",
       "      <td>0</td>\n",
       "      <td>1</td>\n",
       "      <td>0</td>\n",
       "      <td>0</td>\n",
       "      <td>0</td>\n",
       "      <td>0</td>\n",
       "      <td>0</td>\n",
       "      <td>0</td>\n",
       "    </tr>\n",
       "    <tr>\n",
       "      <th>1</th>\n",
       "      <td>0</td>\n",
       "      <td>0</td>\n",
       "      <td>0</td>\n",
       "      <td>0</td>\n",
       "      <td>1</td>\n",
       "      <td>0</td>\n",
       "      <td>0</td>\n",
       "      <td>0</td>\n",
       "      <td>0</td>\n",
       "      <td>0</td>\n",
       "      <td>0</td>\n",
       "    </tr>\n",
       "    <tr>\n",
       "      <th>2</th>\n",
       "      <td>0</td>\n",
       "      <td>0</td>\n",
       "      <td>0</td>\n",
       "      <td>1</td>\n",
       "      <td>0</td>\n",
       "      <td>0</td>\n",
       "      <td>0</td>\n",
       "      <td>0</td>\n",
       "      <td>0</td>\n",
       "      <td>0</td>\n",
       "      <td>0</td>\n",
       "    </tr>\n",
       "    <tr>\n",
       "      <th>3</th>\n",
       "      <td>0</td>\n",
       "      <td>0</td>\n",
       "      <td>0</td>\n",
       "      <td>0</td>\n",
       "      <td>1</td>\n",
       "      <td>0</td>\n",
       "      <td>0</td>\n",
       "      <td>0</td>\n",
       "      <td>0</td>\n",
       "      <td>0</td>\n",
       "      <td>0</td>\n",
       "    </tr>\n",
       "    <tr>\n",
       "      <th>4</th>\n",
       "      <td>0</td>\n",
       "      <td>0</td>\n",
       "      <td>0</td>\n",
       "      <td>1</td>\n",
       "      <td>0</td>\n",
       "      <td>0</td>\n",
       "      <td>0</td>\n",
       "      <td>0</td>\n",
       "      <td>0</td>\n",
       "      <td>0</td>\n",
       "      <td>0</td>\n",
       "    </tr>\n",
       "    <tr>\n",
       "      <th>...</th>\n",
       "      <td>...</td>\n",
       "      <td>...</td>\n",
       "      <td>...</td>\n",
       "      <td>...</td>\n",
       "      <td>...</td>\n",
       "      <td>...</td>\n",
       "      <td>...</td>\n",
       "      <td>...</td>\n",
       "      <td>...</td>\n",
       "      <td>...</td>\n",
       "      <td>...</td>\n",
       "    </tr>\n",
       "    <tr>\n",
       "      <th>13448</th>\n",
       "      <td>0</td>\n",
       "      <td>0</td>\n",
       "      <td>0</td>\n",
       "      <td>0</td>\n",
       "      <td>0</td>\n",
       "      <td>0</td>\n",
       "      <td>0</td>\n",
       "      <td>0</td>\n",
       "      <td>0</td>\n",
       "      <td>1</td>\n",
       "      <td>0</td>\n",
       "    </tr>\n",
       "    <tr>\n",
       "      <th>13449</th>\n",
       "      <td>0</td>\n",
       "      <td>0</td>\n",
       "      <td>0</td>\n",
       "      <td>0</td>\n",
       "      <td>0</td>\n",
       "      <td>0</td>\n",
       "      <td>0</td>\n",
       "      <td>0</td>\n",
       "      <td>0</td>\n",
       "      <td>1</td>\n",
       "      <td>0</td>\n",
       "    </tr>\n",
       "    <tr>\n",
       "      <th>13450</th>\n",
       "      <td>0</td>\n",
       "      <td>0</td>\n",
       "      <td>0</td>\n",
       "      <td>1</td>\n",
       "      <td>0</td>\n",
       "      <td>0</td>\n",
       "      <td>0</td>\n",
       "      <td>0</td>\n",
       "      <td>0</td>\n",
       "      <td>0</td>\n",
       "      <td>0</td>\n",
       "    </tr>\n",
       "    <tr>\n",
       "      <th>13451</th>\n",
       "      <td>0</td>\n",
       "      <td>0</td>\n",
       "      <td>0</td>\n",
       "      <td>0</td>\n",
       "      <td>1</td>\n",
       "      <td>0</td>\n",
       "      <td>0</td>\n",
       "      <td>0</td>\n",
       "      <td>0</td>\n",
       "      <td>0</td>\n",
       "      <td>0</td>\n",
       "    </tr>\n",
       "    <tr>\n",
       "      <th>13452</th>\n",
       "      <td>0</td>\n",
       "      <td>0</td>\n",
       "      <td>0</td>\n",
       "      <td>0</td>\n",
       "      <td>0</td>\n",
       "      <td>0</td>\n",
       "      <td>0</td>\n",
       "      <td>0</td>\n",
       "      <td>0</td>\n",
       "      <td>1</td>\n",
       "      <td>0</td>\n",
       "    </tr>\n",
       "  </tbody>\n",
       "</table>\n",
       "<p>13453 rows × 11 columns</p>\n",
       "</div>"
      ],
      "text/plain": [
       "       Cabriolet  Coupe  Goods wagon  Hatchback  Jeep  Limousine  Microbus  \\\n",
       "0              0      0            0          0     1          0         0   \n",
       "1              0      0            0          0     1          0         0   \n",
       "2              0      0            0          1     0          0         0   \n",
       "3              0      0            0          0     1          0         0   \n",
       "4              0      0            0          1     0          0         0   \n",
       "...          ...    ...          ...        ...   ...        ...       ...   \n",
       "13448          0      0            0          0     0          0         0   \n",
       "13449          0      0            0          0     0          0         0   \n",
       "13450          0      0            0          1     0          0         0   \n",
       "13451          0      0            0          0     1          0         0   \n",
       "13452          0      0            0          0     0          0         0   \n",
       "\n",
       "       Minivan  Pickup  Sedan  Universal  \n",
       "0            0       0      0          0  \n",
       "1            0       0      0          0  \n",
       "2            0       0      0          0  \n",
       "3            0       0      0          0  \n",
       "4            0       0      0          0  \n",
       "...        ...     ...    ...        ...  \n",
       "13448        0       0      1          0  \n",
       "13449        0       0      1          0  \n",
       "13450        0       0      0          0  \n",
       "13451        0       0      0          0  \n",
       "13452        0       0      1          0  \n",
       "\n",
       "[13453 rows x 11 columns]"
      ]
     },
     "execution_count": 21,
     "metadata": {},
     "output_type": "execute_result"
    }
   ],
   "source": [
    "#assign category data out to categry sub data frame for testing\n",
    "category = df.Category\n",
    "#try one-hot-encoding\n",
    "pd.get_dummies(category)"
   ]
  },
  {
   "cell_type": "markdown",
   "id": "b0db2776-2bde-4f47-892c-f1d9383ded16",
   "metadata": {},
   "source": [
    "Now we can try this in the main training data frame:"
   ]
  },
  {
   "cell_type": "code",
   "execution_count": 22,
   "id": "8b0cc001-a93d-43a1-b937-fee52fa88398",
   "metadata": {},
   "outputs": [
    {
     "data": {
      "text/html": [
       "<div>\n",
       "<style scoped>\n",
       "    .dataframe tbody tr th:only-of-type {\n",
       "        vertical-align: middle;\n",
       "    }\n",
       "\n",
       "    .dataframe tbody tr th {\n",
       "        vertical-align: top;\n",
       "    }\n",
       "\n",
       "    .dataframe thead th {\n",
       "        text-align: right;\n",
       "    }\n",
       "</style>\n",
       "<table border=\"1\" class=\"dataframe\">\n",
       "  <thead>\n",
       "    <tr style=\"text-align: right;\">\n",
       "      <th></th>\n",
       "      <th>Unnamed: 0</th>\n",
       "      <th>ID</th>\n",
       "      <th>Price</th>\n",
       "      <th>Levy</th>\n",
       "      <th>Manufacturer</th>\n",
       "      <th>Model</th>\n",
       "      <th>Prod_year</th>\n",
       "      <th>Leather_interior</th>\n",
       "      <th>Fuel_type</th>\n",
       "      <th>Engine_volume</th>\n",
       "      <th>...</th>\n",
       "      <th>Category_Coupe</th>\n",
       "      <th>Category_Goods wagon</th>\n",
       "      <th>Category_Hatchback</th>\n",
       "      <th>Category_Jeep</th>\n",
       "      <th>Category_Limousine</th>\n",
       "      <th>Category_Microbus</th>\n",
       "      <th>Category_Minivan</th>\n",
       "      <th>Category_Pickup</th>\n",
       "      <th>Category_Sedan</th>\n",
       "      <th>Category_Universal</th>\n",
       "    </tr>\n",
       "  </thead>\n",
       "  <tbody>\n",
       "    <tr>\n",
       "      <th>0</th>\n",
       "      <td>0</td>\n",
       "      <td>45654403</td>\n",
       "      <td>13328</td>\n",
       "      <td>1399</td>\n",
       "      <td>LEXUS</td>\n",
       "      <td>RX 450</td>\n",
       "      <td>2010</td>\n",
       "      <td>Yes</td>\n",
       "      <td>Hybrid</td>\n",
       "      <td>3.5</td>\n",
       "      <td>...</td>\n",
       "      <td>0</td>\n",
       "      <td>0</td>\n",
       "      <td>0</td>\n",
       "      <td>1</td>\n",
       "      <td>0</td>\n",
       "      <td>0</td>\n",
       "      <td>0</td>\n",
       "      <td>0</td>\n",
       "      <td>0</td>\n",
       "      <td>0</td>\n",
       "    </tr>\n",
       "    <tr>\n",
       "      <th>1</th>\n",
       "      <td>1</td>\n",
       "      <td>44731507</td>\n",
       "      <td>16621</td>\n",
       "      <td>1018</td>\n",
       "      <td>CHEVROLET</td>\n",
       "      <td>EQUINOX</td>\n",
       "      <td>2011</td>\n",
       "      <td>No</td>\n",
       "      <td>Petrol</td>\n",
       "      <td>3.0</td>\n",
       "      <td>...</td>\n",
       "      <td>0</td>\n",
       "      <td>0</td>\n",
       "      <td>0</td>\n",
       "      <td>1</td>\n",
       "      <td>0</td>\n",
       "      <td>0</td>\n",
       "      <td>0</td>\n",
       "      <td>0</td>\n",
       "      <td>0</td>\n",
       "      <td>0</td>\n",
       "    </tr>\n",
       "    <tr>\n",
       "      <th>2</th>\n",
       "      <td>2</td>\n",
       "      <td>45774419</td>\n",
       "      <td>8467</td>\n",
       "      <td>0</td>\n",
       "      <td>HONDA</td>\n",
       "      <td>FIT</td>\n",
       "      <td>2006</td>\n",
       "      <td>No</td>\n",
       "      <td>Petrol</td>\n",
       "      <td>1.3</td>\n",
       "      <td>...</td>\n",
       "      <td>0</td>\n",
       "      <td>0</td>\n",
       "      <td>1</td>\n",
       "      <td>0</td>\n",
       "      <td>0</td>\n",
       "      <td>0</td>\n",
       "      <td>0</td>\n",
       "      <td>0</td>\n",
       "      <td>0</td>\n",
       "      <td>0</td>\n",
       "    </tr>\n",
       "    <tr>\n",
       "      <th>3</th>\n",
       "      <td>3</td>\n",
       "      <td>45769185</td>\n",
       "      <td>3607</td>\n",
       "      <td>862</td>\n",
       "      <td>FORD</td>\n",
       "      <td>ESCAPE</td>\n",
       "      <td>2011</td>\n",
       "      <td>Yes</td>\n",
       "      <td>Hybrid</td>\n",
       "      <td>2.5</td>\n",
       "      <td>...</td>\n",
       "      <td>0</td>\n",
       "      <td>0</td>\n",
       "      <td>0</td>\n",
       "      <td>1</td>\n",
       "      <td>0</td>\n",
       "      <td>0</td>\n",
       "      <td>0</td>\n",
       "      <td>0</td>\n",
       "      <td>0</td>\n",
       "      <td>0</td>\n",
       "    </tr>\n",
       "    <tr>\n",
       "      <th>4</th>\n",
       "      <td>4</td>\n",
       "      <td>45809263</td>\n",
       "      <td>11726</td>\n",
       "      <td>446</td>\n",
       "      <td>HONDA</td>\n",
       "      <td>FIT</td>\n",
       "      <td>2014</td>\n",
       "      <td>Yes</td>\n",
       "      <td>Petrol</td>\n",
       "      <td>1.3</td>\n",
       "      <td>...</td>\n",
       "      <td>0</td>\n",
       "      <td>0</td>\n",
       "      <td>1</td>\n",
       "      <td>0</td>\n",
       "      <td>0</td>\n",
       "      <td>0</td>\n",
       "      <td>0</td>\n",
       "      <td>0</td>\n",
       "      <td>0</td>\n",
       "      <td>0</td>\n",
       "    </tr>\n",
       "    <tr>\n",
       "      <th>...</th>\n",
       "      <td>...</td>\n",
       "      <td>...</td>\n",
       "      <td>...</td>\n",
       "      <td>...</td>\n",
       "      <td>...</td>\n",
       "      <td>...</td>\n",
       "      <td>...</td>\n",
       "      <td>...</td>\n",
       "      <td>...</td>\n",
       "      <td>...</td>\n",
       "      <td>...</td>\n",
       "      <td>...</td>\n",
       "      <td>...</td>\n",
       "      <td>...</td>\n",
       "      <td>...</td>\n",
       "      <td>...</td>\n",
       "      <td>...</td>\n",
       "      <td>...</td>\n",
       "      <td>...</td>\n",
       "      <td>...</td>\n",
       "      <td>...</td>\n",
       "    </tr>\n",
       "    <tr>\n",
       "      <th>13448</th>\n",
       "      <td>13462</td>\n",
       "      <td>45802417</td>\n",
       "      <td>21103</td>\n",
       "      <td>1104</td>\n",
       "      <td>HYUNDAI</td>\n",
       "      <td>GRANDEUR</td>\n",
       "      <td>2015</td>\n",
       "      <td>Yes</td>\n",
       "      <td>LPG</td>\n",
       "      <td>3.0</td>\n",
       "      <td>...</td>\n",
       "      <td>0</td>\n",
       "      <td>0</td>\n",
       "      <td>0</td>\n",
       "      <td>0</td>\n",
       "      <td>0</td>\n",
       "      <td>0</td>\n",
       "      <td>0</td>\n",
       "      <td>0</td>\n",
       "      <td>1</td>\n",
       "      <td>0</td>\n",
       "    </tr>\n",
       "    <tr>\n",
       "      <th>13449</th>\n",
       "      <td>13463</td>\n",
       "      <td>44631202</td>\n",
       "      <td>13172</td>\n",
       "      <td>530</td>\n",
       "      <td>HYUNDAI</td>\n",
       "      <td>ELANTRA</td>\n",
       "      <td>2013</td>\n",
       "      <td>Yes</td>\n",
       "      <td>Petrol</td>\n",
       "      <td>1.6</td>\n",
       "      <td>...</td>\n",
       "      <td>0</td>\n",
       "      <td>0</td>\n",
       "      <td>0</td>\n",
       "      <td>0</td>\n",
       "      <td>0</td>\n",
       "      <td>0</td>\n",
       "      <td>0</td>\n",
       "      <td>0</td>\n",
       "      <td>1</td>\n",
       "      <td>0</td>\n",
       "    </tr>\n",
       "    <tr>\n",
       "      <th>13450</th>\n",
       "      <td>13464</td>\n",
       "      <td>45669073</td>\n",
       "      <td>19757</td>\n",
       "      <td>353</td>\n",
       "      <td>TOYOTA</td>\n",
       "      <td>PRIUS</td>\n",
       "      <td>2015</td>\n",
       "      <td>No</td>\n",
       "      <td>Hybrid</td>\n",
       "      <td>1.8</td>\n",
       "      <td>...</td>\n",
       "      <td>0</td>\n",
       "      <td>0</td>\n",
       "      <td>1</td>\n",
       "      <td>0</td>\n",
       "      <td>0</td>\n",
       "      <td>0</td>\n",
       "      <td>0</td>\n",
       "      <td>0</td>\n",
       "      <td>0</td>\n",
       "      <td>0</td>\n",
       "    </tr>\n",
       "    <tr>\n",
       "      <th>13451</th>\n",
       "      <td>13465</td>\n",
       "      <td>45647811</td>\n",
       "      <td>1019</td>\n",
       "      <td>917</td>\n",
       "      <td>BMW</td>\n",
       "      <td>X5</td>\n",
       "      <td>2013</td>\n",
       "      <td>Yes</td>\n",
       "      <td>Diesel</td>\n",
       "      <td>3.0</td>\n",
       "      <td>...</td>\n",
       "      <td>0</td>\n",
       "      <td>0</td>\n",
       "      <td>0</td>\n",
       "      <td>1</td>\n",
       "      <td>0</td>\n",
       "      <td>0</td>\n",
       "      <td>0</td>\n",
       "      <td>0</td>\n",
       "      <td>0</td>\n",
       "      <td>0</td>\n",
       "    </tr>\n",
       "    <tr>\n",
       "      <th>13452</th>\n",
       "      <td>13466</td>\n",
       "      <td>45768173</td>\n",
       "      <td>125</td>\n",
       "      <td>1750</td>\n",
       "      <td>TOYOTA</td>\n",
       "      <td>HIGHLANDER</td>\n",
       "      <td>2008</td>\n",
       "      <td>Yes</td>\n",
       "      <td>Hybrid</td>\n",
       "      <td>3.3</td>\n",
       "      <td>...</td>\n",
       "      <td>0</td>\n",
       "      <td>0</td>\n",
       "      <td>0</td>\n",
       "      <td>0</td>\n",
       "      <td>0</td>\n",
       "      <td>0</td>\n",
       "      <td>0</td>\n",
       "      <td>0</td>\n",
       "      <td>1</td>\n",
       "      <td>0</td>\n",
       "    </tr>\n",
       "  </tbody>\n",
       "</table>\n",
       "<p>13453 rows × 29 columns</p>\n",
       "</div>"
      ],
      "text/plain": [
       "       Unnamed: 0        ID  Price  Levy Manufacturer       Model  Prod_year  \\\n",
       "0               0  45654403  13328  1399        LEXUS      RX 450       2010   \n",
       "1               1  44731507  16621  1018    CHEVROLET     EQUINOX       2011   \n",
       "2               2  45774419   8467     0        HONDA         FIT       2006   \n",
       "3               3  45769185   3607   862         FORD      ESCAPE       2011   \n",
       "4               4  45809263  11726   446        HONDA         FIT       2014   \n",
       "...           ...       ...    ...   ...          ...         ...        ...   \n",
       "13448       13462  45802417  21103  1104      HYUNDAI    GRANDEUR       2015   \n",
       "13449       13463  44631202  13172   530      HYUNDAI     ELANTRA       2013   \n",
       "13450       13464  45669073  19757   353       TOYOTA       PRIUS       2015   \n",
       "13451       13465  45647811   1019   917          BMW          X5       2013   \n",
       "13452       13466  45768173    125  1750       TOYOTA  HIGHLANDER       2008   \n",
       "\n",
       "      Leather_interior Fuel_type  Engine_volume  ... Category_Coupe  \\\n",
       "0                  Yes    Hybrid            3.5  ...              0   \n",
       "1                   No    Petrol            3.0  ...              0   \n",
       "2                   No    Petrol            1.3  ...              0   \n",
       "3                  Yes    Hybrid            2.5  ...              0   \n",
       "4                  Yes    Petrol            1.3  ...              0   \n",
       "...                ...       ...            ...  ...            ...   \n",
       "13448              Yes       LPG            3.0  ...              0   \n",
       "13449              Yes    Petrol            1.6  ...              0   \n",
       "13450               No    Hybrid            1.8  ...              0   \n",
       "13451              Yes    Diesel            3.0  ...              0   \n",
       "13452              Yes    Hybrid            3.3  ...              0   \n",
       "\n",
       "       Category_Goods wagon  Category_Hatchback Category_Jeep  \\\n",
       "0                         0                   0             1   \n",
       "1                         0                   0             1   \n",
       "2                         0                   1             0   \n",
       "3                         0                   0             1   \n",
       "4                         0                   1             0   \n",
       "...                     ...                 ...           ...   \n",
       "13448                     0                   0             0   \n",
       "13449                     0                   0             0   \n",
       "13450                     0                   1             0   \n",
       "13451                     0                   0             1   \n",
       "13452                     0                   0             0   \n",
       "\n",
       "      Category_Limousine Category_Microbus Category_Minivan Category_Pickup  \\\n",
       "0                      0                 0                0               0   \n",
       "1                      0                 0                0               0   \n",
       "2                      0                 0                0               0   \n",
       "3                      0                 0                0               0   \n",
       "4                      0                 0                0               0   \n",
       "...                  ...               ...              ...             ...   \n",
       "13448                  0                 0                0               0   \n",
       "13449                  0                 0                0               0   \n",
       "13450                  0                 0                0               0   \n",
       "13451                  0                 0                0               0   \n",
       "13452                  0                 0                0               0   \n",
       "\n",
       "       Category_Sedan  Category_Universal  \n",
       "0                   0                   0  \n",
       "1                   0                   0  \n",
       "2                   0                   0  \n",
       "3                   0                   0  \n",
       "4                   0                   0  \n",
       "...               ...                 ...  \n",
       "13448               1                   0  \n",
       "13449               1                   0  \n",
       "13450               0                   0  \n",
       "13451               0                   0  \n",
       "13452               1                   0  \n",
       "\n",
       "[13453 rows x 29 columns]"
      ]
     },
     "execution_count": 22,
     "metadata": {},
     "output_type": "execute_result"
    }
   ],
   "source": [
    "pd.get_dummies(df, columns=[\"Category\"], drop_first = True)"
   ]
  },
  {
   "cell_type": "markdown",
   "id": "ee74928a-8424-4325-a6b2-16dfa51a0941",
   "metadata": {},
   "source": [
    "Looks like one-hot-encoding is much simply solution compare to calculate group mean."
   ]
  },
  {
   "cell_type": "markdown",
   "id": "261f22b6-99c0-4156-aabe-1f22e54acc68",
   "metadata": {},
   "source": [
    "#### 3.3 Conclution"
   ]
  },
  {
   "cell_type": "markdown",
   "id": "895e6b03-c15d-4b20-90ed-74cafcdf03a9",
   "metadata": {},
   "source": [
    "After research, we have found that there are two method for variable quantization. One if calculate group mean and one is One-Hot-Encoding. As group we have decide to use One-Hot-Encoding for all the categorical variable columns except two columns. Which are Manufacture and Models. We can see following:"
   ]
  },
  {
   "cell_type": "code",
   "execution_count": 27,
   "id": "b5282506-7cb0-497e-9acd-d04058edabb8",
   "metadata": {},
   "outputs": [
    {
     "name": "stdout",
     "output_type": "stream",
     "text": [
      "Total unique value in Manufacturer columne is  64\n",
      "Total unique value in Model columne is  1227\n"
     ]
    }
   ],
   "source": [
    "print(\"Total unique value in Manufacturer columne is \",len(df.Manufacturer.unique()))\n",
    "print(\"Total unique value in Model columne is \",len(df.Model.unique()))"
   ]
  },
  {
   "cell_type": "markdown",
   "id": "aeec1e08-31ee-4dde-aa13-ef9fe40811ad",
   "metadata": {},
   "source": [
    "These number are large and Model is heavely depend on manufacturer (we will show that in following section). Then we decide to use group mean calculation for these two columns."
   ]
  },
  {
   "cell_type": "code",
   "execution_count": null,
   "id": "7195abc9-5eb0-4a18-9df2-1d81e1d6ebe9",
   "metadata": {},
   "outputs": [],
   "source": []
  }
 ],
 "metadata": {
  "kernelspec": {
   "display_name": "Python 3 (ipykernel)",
   "language": "python",
   "name": "python3"
  },
  "language_info": {
   "codemirror_mode": {
    "name": "ipython",
    "version": 3
   },
   "file_extension": ".py",
   "mimetype": "text/x-python",
   "name": "python",
   "nbconvert_exporter": "python",
   "pygments_lexer": "ipython3",
   "version": "3.9.12"
  }
 },
 "nbformat": 4,
 "nbformat_minor": 5
}
